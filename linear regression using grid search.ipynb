{
 "cells": [
  {
   "cell_type": "code",
   "execution_count": 1,
   "id": "cf119980",
   "metadata": {},
   "outputs": [],
   "source": [
    "import numpy as np\n",
    "import pandas as pd\n",
    "import matplotlib.pyplot as plt\n",
    "import seaborn as sns"
   ]
  },
  {
   "cell_type": "code",
   "execution_count": 2,
   "id": "412e9990",
   "metadata": {},
   "outputs": [],
   "source": [
    "df = pd.read_csv(\"../DATA/AMES_Final_DF.csv\")"
   ]
  },
  {
   "cell_type": "code",
   "execution_count": 3,
   "id": "2cb1ea34",
   "metadata": {},
   "outputs": [
    {
     "data": {
      "text/html": [
       "<div>\n",
       "<style scoped>\n",
       "    .dataframe tbody tr th:only-of-type {\n",
       "        vertical-align: middle;\n",
       "    }\n",
       "\n",
       "    .dataframe tbody tr th {\n",
       "        vertical-align: top;\n",
       "    }\n",
       "\n",
       "    .dataframe thead th {\n",
       "        text-align: right;\n",
       "    }\n",
       "</style>\n",
       "<table border=\"1\" class=\"dataframe\">\n",
       "  <thead>\n",
       "    <tr style=\"text-align: right;\">\n",
       "      <th></th>\n",
       "      <th>Lot Frontage</th>\n",
       "      <th>Lot Area</th>\n",
       "      <th>Overall Qual</th>\n",
       "      <th>Overall Cond</th>\n",
       "      <th>Year Built</th>\n",
       "      <th>Year Remod/Add</th>\n",
       "      <th>Mas Vnr Area</th>\n",
       "      <th>BsmtFin SF 1</th>\n",
       "      <th>BsmtFin SF 2</th>\n",
       "      <th>Bsmt Unf SF</th>\n",
       "      <th>...</th>\n",
       "      <th>Sale Type_ConLw</th>\n",
       "      <th>Sale Type_New</th>\n",
       "      <th>Sale Type_Oth</th>\n",
       "      <th>Sale Type_VWD</th>\n",
       "      <th>Sale Type_WD</th>\n",
       "      <th>Sale Condition_AdjLand</th>\n",
       "      <th>Sale Condition_Alloca</th>\n",
       "      <th>Sale Condition_Family</th>\n",
       "      <th>Sale Condition_Normal</th>\n",
       "      <th>Sale Condition_Partial</th>\n",
       "    </tr>\n",
       "  </thead>\n",
       "  <tbody>\n",
       "    <tr>\n",
       "      <th>0</th>\n",
       "      <td>141.0</td>\n",
       "      <td>31770</td>\n",
       "      <td>6</td>\n",
       "      <td>5</td>\n",
       "      <td>1960</td>\n",
       "      <td>1960</td>\n",
       "      <td>112.0</td>\n",
       "      <td>639.0</td>\n",
       "      <td>0.0</td>\n",
       "      <td>441.0</td>\n",
       "      <td>...</td>\n",
       "      <td>0</td>\n",
       "      <td>0</td>\n",
       "      <td>0</td>\n",
       "      <td>0</td>\n",
       "      <td>1</td>\n",
       "      <td>0</td>\n",
       "      <td>0</td>\n",
       "      <td>0</td>\n",
       "      <td>1</td>\n",
       "      <td>0</td>\n",
       "    </tr>\n",
       "    <tr>\n",
       "      <th>1</th>\n",
       "      <td>80.0</td>\n",
       "      <td>11622</td>\n",
       "      <td>5</td>\n",
       "      <td>6</td>\n",
       "      <td>1961</td>\n",
       "      <td>1961</td>\n",
       "      <td>0.0</td>\n",
       "      <td>468.0</td>\n",
       "      <td>144.0</td>\n",
       "      <td>270.0</td>\n",
       "      <td>...</td>\n",
       "      <td>0</td>\n",
       "      <td>0</td>\n",
       "      <td>0</td>\n",
       "      <td>0</td>\n",
       "      <td>1</td>\n",
       "      <td>0</td>\n",
       "      <td>0</td>\n",
       "      <td>0</td>\n",
       "      <td>1</td>\n",
       "      <td>0</td>\n",
       "    </tr>\n",
       "    <tr>\n",
       "      <th>2</th>\n",
       "      <td>81.0</td>\n",
       "      <td>14267</td>\n",
       "      <td>6</td>\n",
       "      <td>6</td>\n",
       "      <td>1958</td>\n",
       "      <td>1958</td>\n",
       "      <td>108.0</td>\n",
       "      <td>923.0</td>\n",
       "      <td>0.0</td>\n",
       "      <td>406.0</td>\n",
       "      <td>...</td>\n",
       "      <td>0</td>\n",
       "      <td>0</td>\n",
       "      <td>0</td>\n",
       "      <td>0</td>\n",
       "      <td>1</td>\n",
       "      <td>0</td>\n",
       "      <td>0</td>\n",
       "      <td>0</td>\n",
       "      <td>1</td>\n",
       "      <td>0</td>\n",
       "    </tr>\n",
       "    <tr>\n",
       "      <th>3</th>\n",
       "      <td>93.0</td>\n",
       "      <td>11160</td>\n",
       "      <td>7</td>\n",
       "      <td>5</td>\n",
       "      <td>1968</td>\n",
       "      <td>1968</td>\n",
       "      <td>0.0</td>\n",
       "      <td>1065.0</td>\n",
       "      <td>0.0</td>\n",
       "      <td>1045.0</td>\n",
       "      <td>...</td>\n",
       "      <td>0</td>\n",
       "      <td>0</td>\n",
       "      <td>0</td>\n",
       "      <td>0</td>\n",
       "      <td>1</td>\n",
       "      <td>0</td>\n",
       "      <td>0</td>\n",
       "      <td>0</td>\n",
       "      <td>1</td>\n",
       "      <td>0</td>\n",
       "    </tr>\n",
       "    <tr>\n",
       "      <th>4</th>\n",
       "      <td>74.0</td>\n",
       "      <td>13830</td>\n",
       "      <td>5</td>\n",
       "      <td>5</td>\n",
       "      <td>1997</td>\n",
       "      <td>1998</td>\n",
       "      <td>0.0</td>\n",
       "      <td>791.0</td>\n",
       "      <td>0.0</td>\n",
       "      <td>137.0</td>\n",
       "      <td>...</td>\n",
       "      <td>0</td>\n",
       "      <td>0</td>\n",
       "      <td>0</td>\n",
       "      <td>0</td>\n",
       "      <td>1</td>\n",
       "      <td>0</td>\n",
       "      <td>0</td>\n",
       "      <td>0</td>\n",
       "      <td>1</td>\n",
       "      <td>0</td>\n",
       "    </tr>\n",
       "  </tbody>\n",
       "</table>\n",
       "<p>5 rows × 274 columns</p>\n",
       "</div>"
      ],
      "text/plain": [
       "   Lot Frontage  Lot Area  Overall Qual  Overall Cond  Year Built  \\\n",
       "0         141.0     31770             6             5        1960   \n",
       "1          80.0     11622             5             6        1961   \n",
       "2          81.0     14267             6             6        1958   \n",
       "3          93.0     11160             7             5        1968   \n",
       "4          74.0     13830             5             5        1997   \n",
       "\n",
       "   Year Remod/Add  Mas Vnr Area  BsmtFin SF 1  BsmtFin SF 2  Bsmt Unf SF  ...  \\\n",
       "0            1960         112.0         639.0           0.0        441.0  ...   \n",
       "1            1961           0.0         468.0         144.0        270.0  ...   \n",
       "2            1958         108.0         923.0           0.0        406.0  ...   \n",
       "3            1968           0.0        1065.0           0.0       1045.0  ...   \n",
       "4            1998           0.0         791.0           0.0        137.0  ...   \n",
       "\n",
       "   Sale Type_ConLw  Sale Type_New  Sale Type_Oth  Sale Type_VWD  \\\n",
       "0                0              0              0              0   \n",
       "1                0              0              0              0   \n",
       "2                0              0              0              0   \n",
       "3                0              0              0              0   \n",
       "4                0              0              0              0   \n",
       "\n",
       "   Sale Type_WD   Sale Condition_AdjLand  Sale Condition_Alloca  \\\n",
       "0              1                       0                      0   \n",
       "1              1                       0                      0   \n",
       "2              1                       0                      0   \n",
       "3              1                       0                      0   \n",
       "4              1                       0                      0   \n",
       "\n",
       "   Sale Condition_Family  Sale Condition_Normal  Sale Condition_Partial  \n",
       "0                      0                      1                       0  \n",
       "1                      0                      1                       0  \n",
       "2                      0                      1                       0  \n",
       "3                      0                      1                       0  \n",
       "4                      0                      1                       0  \n",
       "\n",
       "[5 rows x 274 columns]"
      ]
     },
     "execution_count": 3,
     "metadata": {},
     "output_type": "execute_result"
    }
   ],
   "source": [
    "df.head()"
   ]
  },
  {
   "cell_type": "code",
   "execution_count": 10,
   "id": "0a81fa32",
   "metadata": {},
   "outputs": [],
   "source": [
    "# The label we are trying to predict is the SalePrice column\n",
    "\n",
    "X=df.drop('SalePrice',axis=1)\n",
    "y=df['SalePrice']"
   ]
  },
  {
   "cell_type": "code",
   "execution_count": 18,
   "id": "4aa95069",
   "metadata": {},
   "outputs": [],
   "source": [
    "# We will Use scikit-learn to split up X and y into a training set and test set. \n",
    "# Since we will later be using a Grid Search strategy, I will set test proportion to 10%. and specify random_state = 101"
   ]
  },
  {
   "cell_type": "code",
   "execution_count": 19,
   "id": "ab8f5d9c",
   "metadata": {},
   "outputs": [],
   "source": [
    "from sklearn.model_selection import train_test_split"
   ]
  },
  {
   "cell_type": "code",
   "execution_count": 20,
   "id": "85190fcc",
   "metadata": {},
   "outputs": [],
   "source": [
    "X_train, X_test, y_train, y_test = train_test_split(X, y, test_size=0.1, random_state=101)"
   ]
  },
  {
   "cell_type": "code",
   "execution_count": 21,
   "id": "d883b34c",
   "metadata": {},
   "outputs": [],
   "source": [
    "#TASK: The dataset features has a variety of scales and units. For optimal regression performance,                         \n",
    "#I wll scale the X features"
   ]
  },
  {
   "cell_type": "code",
   "execution_count": 22,
   "id": "e8d70a4c",
   "metadata": {},
   "outputs": [],
   "source": [
    "from sklearn.preprocessing import StandardScaler"
   ]
  },
  {
   "cell_type": "code",
   "execution_count": 23,
   "id": "c4ec55ec",
   "metadata": {},
   "outputs": [],
   "source": [
    "scaler=StandardScaler()"
   ]
  },
  {
   "cell_type": "code",
   "execution_count": 24,
   "id": "a925eb2f",
   "metadata": {},
   "outputs": [
    {
     "data": {
      "text/plain": [
       "StandardScaler()"
      ]
     },
     "execution_count": 24,
     "metadata": {},
     "output_type": "execute_result"
    }
   ],
   "source": [
    "scaler.fit(X_train)"
   ]
  },
  {
   "cell_type": "code",
   "execution_count": 25,
   "id": "ccf90e67",
   "metadata": {},
   "outputs": [],
   "source": [
    "X_train=scaler.transform(X_train)\n",
    "X_test=scaler.transform(X_test)"
   ]
  },
  {
   "cell_type": "code",
   "execution_count": null,
   "id": "b13134b9",
   "metadata": {},
   "outputs": [],
   "source": [
    "# We will use an Elastic Net mode regressor"
   ]
  },
  {
   "cell_type": "code",
   "execution_count": 28,
   "id": "334307f1",
   "metadata": {},
   "outputs": [],
   "source": [
    "from sklearn.linear_model import ElasticNet"
   ]
  },
  {
   "cell_type": "code",
   "execution_count": 29,
   "id": "9229bc9b",
   "metadata": {},
   "outputs": [],
   "source": [
    "model_elastic=ElasticNet()"
   ]
  },
  {
   "cell_type": "code",
   "execution_count": 30,
   "id": "16d61957",
   "metadata": {},
   "outputs": [],
   "source": [
    "#The Elastic Net model has two main parameters, alpha and the L1 ratio. \n",
    "# We can Create a dictionary of parameter grid of values for the ElasticNet."
   ]
  },
  {
   "cell_type": "code",
   "execution_count": 31,
   "id": "5a9dcde0",
   "metadata": {},
   "outputs": [],
   "source": [
    "param_grid={'alpha':[.1,1,5,10,15,25,50,70,100],'l1_ratio':[.1,.5,.7,.85,.90,.95,1]}"
   ]
  },
  {
   "cell_type": "code",
   "execution_count": 32,
   "id": "4a09f10f",
   "metadata": {},
   "outputs": [],
   "source": [
    "from sklearn.model_selection import GridSearchCV"
   ]
  },
  {
   "cell_type": "code",
   "execution_count": 33,
   "id": "87e19d96",
   "metadata": {},
   "outputs": [],
   "source": [
    "grid_model=GridSearchCV(estimator=model_elastic,param_grid=param_grid,scoring='neg_mean_squared_error',cv=10,verbose=5)"
   ]
  },
  {
   "cell_type": "code",
   "execution_count": 34,
   "id": "1cf9c3aa",
   "metadata": {},
   "outputs": [
    {
     "data": {
      "text/plain": [
       "GridSearchCV(cv=10, estimator=ElasticNet(),\n",
       "             param_grid={'alpha': [0.1, 1, 5, 10, 15, 25, 50, 70, 100],\n",
       "                         'l1_ratio': [0.1, 0.5, 0.7, 0.85, 0.9, 0.95, 1]},\n",
       "             scoring='neg_mean_squared_error', verbose=5)"
      ]
     },
     "execution_count": 34,
     "metadata": {},
     "output_type": "execute_result"
    }
   ],
   "source": [
    "grid_model"
   ]
  },
  {
   "cell_type": "code",
   "execution_count": 35,
   "id": "7e08d75a",
   "metadata": {},
   "outputs": [
    {
     "name": "stdout",
     "output_type": "stream",
     "text": [
      "Fitting 10 folds for each of 63 candidates, totalling 630 fits\n",
      "[CV] alpha=0.1, l1_ratio=0.1 .........................................\n",
      "[CV] .... alpha=0.1, l1_ratio=0.1, score=-645364372.653, total=   0.1s\n",
      "[CV] alpha=0.1, l1_ratio=0.1 .........................................\n"
     ]
    },
    {
     "name": "stderr",
     "output_type": "stream",
     "text": [
      "[Parallel(n_jobs=1)]: Using backend SequentialBackend with 1 concurrent workers.\n",
      "[Parallel(n_jobs=1)]: Done   1 out of   1 | elapsed:    0.0s remaining:    0.0s\n"
     ]
    },
    {
     "name": "stdout",
     "output_type": "stream",
     "text": [
      "[CV] .... alpha=0.1, l1_ratio=0.1, score=-695811123.088, total=   0.1s\n",
      "[CV] alpha=0.1, l1_ratio=0.1 .........................................\n",
      "[CV] .... alpha=0.1, l1_ratio=0.1, score=-425889237.332, total=   0.1s\n",
      "[CV] alpha=0.1, l1_ratio=0.1 .........................................\n"
     ]
    },
    {
     "name": "stderr",
     "output_type": "stream",
     "text": [
      "[Parallel(n_jobs=1)]: Done   2 out of   2 | elapsed:    0.2s remaining:    0.0s\n",
      "[Parallel(n_jobs=1)]: Done   3 out of   3 | elapsed:    0.3s remaining:    0.0s\n"
     ]
    },
    {
     "name": "stdout",
     "output_type": "stream",
     "text": [
      "[CV] .... alpha=0.1, l1_ratio=0.1, score=-833676034.394, total=   0.2s\n",
      "[CV] alpha=0.1, l1_ratio=0.1 .........................................\n",
      "[CV] .... alpha=0.1, l1_ratio=0.1, score=-343043072.017, total=   0.1s\n",
      "[CV] alpha=0.1, l1_ratio=0.1 .........................................\n"
     ]
    },
    {
     "name": "stderr",
     "output_type": "stream",
     "text": [
      "[Parallel(n_jobs=1)]: Done   4 out of   4 | elapsed:    0.5s remaining:    0.0s\n"
     ]
    },
    {
     "name": "stdout",
     "output_type": "stream",
     "text": [
      "[CV] .... alpha=0.1, l1_ratio=0.1, score=-400007367.590, total=   0.2s\n",
      "[CV] alpha=0.1, l1_ratio=0.1 .........................................\n",
      "[CV] .... alpha=0.1, l1_ratio=0.1, score=-463591484.236, total=   0.1s\n",
      "[CV] alpha=0.1, l1_ratio=0.1 .........................................\n",
      "[CV] .... alpha=0.1, l1_ratio=0.1, score=-357208654.897, total=   0.1s\n",
      "[CV] alpha=0.1, l1_ratio=0.1 .........................................\n",
      "[CV] .... alpha=0.1, l1_ratio=0.1, score=-629542868.649, total=   0.2s\n",
      "[CV] alpha=0.1, l1_ratio=0.1 .........................................\n",
      "[CV] .... alpha=0.1, l1_ratio=0.1, score=-448907649.662, total=   0.2s\n",
      "[CV] alpha=0.1, l1_ratio=0.5 .........................................\n",
      "[CV] .... alpha=0.1, l1_ratio=0.5, score=-620078316.905, total=   0.2s\n",
      "[CV] alpha=0.1, l1_ratio=0.5 .........................................\n",
      "[CV] .... alpha=0.1, l1_ratio=0.5, score=-690419316.191, total=   0.2s\n",
      "[CV] alpha=0.1, l1_ratio=0.5 .........................................\n",
      "[CV] .... alpha=0.1, l1_ratio=0.5, score=-427984213.601, total=   0.2s\n",
      "[CV] alpha=0.1, l1_ratio=0.5 .........................................\n",
      "[CV] .... alpha=0.1, l1_ratio=0.5, score=-786227171.437, total=   0.2s\n",
      "[CV] alpha=0.1, l1_ratio=0.5 .........................................\n",
      "[CV] .... alpha=0.1, l1_ratio=0.5, score=-351409512.143, total=   0.2s\n",
      "[CV] alpha=0.1, l1_ratio=0.5 .........................................\n",
      "[CV] .... alpha=0.1, l1_ratio=0.5, score=-388872833.876, total=   0.2s\n",
      "[CV] alpha=0.1, l1_ratio=0.5 .........................................\n",
      "[CV] .... alpha=0.1, l1_ratio=0.5, score=-447647429.453, total=   0.2s\n",
      "[CV] alpha=0.1, l1_ratio=0.5 .........................................\n",
      "[CV] .... alpha=0.1, l1_ratio=0.5, score=-368785710.074, total=   0.2s\n",
      "[CV] alpha=0.1, l1_ratio=0.5 .........................................\n",
      "[CV] .... alpha=0.1, l1_ratio=0.5, score=-622486823.399, total=   0.2s\n",
      "[CV] alpha=0.1, l1_ratio=0.5 .........................................\n",
      "[CV] .... alpha=0.1, l1_ratio=0.5, score=-445259938.268, total=   0.2s\n",
      "[CV] alpha=0.1, l1_ratio=0.7 .........................................\n",
      "[CV] .... alpha=0.1, l1_ratio=0.7, score=-604844174.964, total=   0.3s\n",
      "[CV] alpha=0.1, l1_ratio=0.7 .........................................\n",
      "[CV] .... alpha=0.1, l1_ratio=0.7, score=-688272810.748, total=   0.2s\n",
      "[CV] alpha=0.1, l1_ratio=0.7 .........................................\n",
      "[CV] .... alpha=0.1, l1_ratio=0.7, score=-431946971.058, total=   0.3s\n",
      "[CV] alpha=0.1, l1_ratio=0.7 .........................................\n",
      "[CV] .... alpha=0.1, l1_ratio=0.7, score=-760033037.047, total=   0.3s\n",
      "[CV] alpha=0.1, l1_ratio=0.7 .........................................\n",
      "[CV] .... alpha=0.1, l1_ratio=0.7, score=-358543194.488, total=   0.2s\n",
      "[CV] alpha=0.1, l1_ratio=0.7 .........................................\n",
      "[CV] .... alpha=0.1, l1_ratio=0.7, score=-382746309.579, total=   0.2s\n",
      "[CV] alpha=0.1, l1_ratio=0.7 .........................................\n",
      "[CV] .... alpha=0.1, l1_ratio=0.7, score=-439155574.662, total=   0.2s\n",
      "[CV] alpha=0.1, l1_ratio=0.7 .........................................\n",
      "[CV] .... alpha=0.1, l1_ratio=0.7, score=-378200332.370, total=   0.3s\n",
      "[CV] alpha=0.1, l1_ratio=0.7 .........................................\n",
      "[CV] .... alpha=0.1, l1_ratio=0.7, score=-621039799.571, total=   0.2s\n",
      "[CV] alpha=0.1, l1_ratio=0.7 .........................................\n",
      "[CV] .... alpha=0.1, l1_ratio=0.7, score=-444460458.829, total=   0.3s\n",
      "[CV] alpha=0.1, l1_ratio=0.85 ........................................\n",
      "[CV] ... alpha=0.1, l1_ratio=0.85, score=-591815681.885, total=   0.4s\n",
      "[CV] alpha=0.1, l1_ratio=0.85 ........................................\n",
      "[CV] ... alpha=0.1, l1_ratio=0.85, score=-687535066.295, total=   0.4s\n",
      "[CV] alpha=0.1, l1_ratio=0.85 ........................................\n",
      "[CV] ... alpha=0.1, l1_ratio=0.85, score=-437811150.996, total=   0.5s\n",
      "[CV] alpha=0.1, l1_ratio=0.85 ........................................\n",
      "[CV] ... alpha=0.1, l1_ratio=0.85, score=-740565983.450, total=   0.4s\n",
      "[CV] alpha=0.1, l1_ratio=0.85 ........................................\n",
      "[CV] ... alpha=0.1, l1_ratio=0.85, score=-366545871.349, total=   0.4s\n",
      "[CV] alpha=0.1, l1_ratio=0.85 ........................................\n",
      "[CV] ... alpha=0.1, l1_ratio=0.85, score=-378476364.457, total=   0.4s\n",
      "[CV] alpha=0.1, l1_ratio=0.85 ........................................\n",
      "[CV] ... alpha=0.1, l1_ratio=0.85, score=-433686989.658, total=   0.5s\n",
      "[CV] alpha=0.1, l1_ratio=0.85 ........................................\n",
      "[CV] ... alpha=0.1, l1_ratio=0.85, score=-388305332.448, total=   0.5s\n",
      "[CV] alpha=0.1, l1_ratio=0.85 ........................................\n",
      "[CV] ... alpha=0.1, l1_ratio=0.85, score=-621861399.135, total=   0.5s\n",
      "[CV] alpha=0.1, l1_ratio=0.85 ........................................\n"
     ]
    },
    {
     "name": "stderr",
     "output_type": "stream",
     "text": [
      "C:\\Users\\97150\\Anaconda3\\envs\\new_env\\lib\\site-packages\\sklearn\\linear_model\\_coordinate_descent.py:531: ConvergenceWarning: Objective did not converge. You might want to increase the number of iterations. Duality gap: 2789716543.3775635, tolerance: 1545968373.693442\n",
      "  positive)\n"
     ]
    },
    {
     "name": "stdout",
     "output_type": "stream",
     "text": [
      "[CV] ... alpha=0.1, l1_ratio=0.85, score=-444713722.768, total=   0.5s\n",
      "[CV] alpha=0.1, l1_ratio=0.9 .........................................\n"
     ]
    },
    {
     "name": "stderr",
     "output_type": "stream",
     "text": [
      "C:\\Users\\97150\\Anaconda3\\envs\\new_env\\lib\\site-packages\\sklearn\\linear_model\\_coordinate_descent.py:531: ConvergenceWarning: Objective did not converge. You might want to increase the number of iterations. Duality gap: 174590700941.85565, tolerance: 1536859599.6164982\n",
      "  positive)\n"
     ]
    },
    {
     "name": "stdout",
     "output_type": "stream",
     "text": [
      "[CV] .... alpha=0.1, l1_ratio=0.9, score=-587303048.546, total=   0.5s\n",
      "[CV] alpha=0.1, l1_ratio=0.9 .........................................\n"
     ]
    },
    {
     "name": "stderr",
     "output_type": "stream",
     "text": [
      "C:\\Users\\97150\\Anaconda3\\envs\\new_env\\lib\\site-packages\\sklearn\\linear_model\\_coordinate_descent.py:531: ConvergenceWarning: Objective did not converge. You might want to increase the number of iterations. Duality gap: 164300010156.51904, tolerance: 1533543348.4009626\n",
      "  positive)\n"
     ]
    },
    {
     "name": "stdout",
     "output_type": "stream",
     "text": [
      "[CV] .... alpha=0.1, l1_ratio=0.9, score=-687779356.946, total=   0.4s\n",
      "[CV] alpha=0.1, l1_ratio=0.9 .........................................\n"
     ]
    },
    {
     "name": "stderr",
     "output_type": "stream",
     "text": [
      "C:\\Users\\97150\\Anaconda3\\envs\\new_env\\lib\\site-packages\\sklearn\\linear_model\\_coordinate_descent.py:531: ConvergenceWarning: Objective did not converge. You might want to increase the number of iterations. Duality gap: 198424302376.6371, tolerance: 1569498936.193926\n",
      "  positive)\n"
     ]
    },
    {
     "name": "stdout",
     "output_type": "stream",
     "text": [
      "[CV] .... alpha=0.1, l1_ratio=0.9, score=-440676256.972, total=   0.5s\n",
      "[CV] alpha=0.1, l1_ratio=0.9 .........................................\n"
     ]
    },
    {
     "name": "stderr",
     "output_type": "stream",
     "text": [
      "C:\\Users\\97150\\Anaconda3\\envs\\new_env\\lib\\site-packages\\sklearn\\linear_model\\_coordinate_descent.py:531: ConvergenceWarning: Objective did not converge. You might want to increase the number of iterations. Duality gap: 172318750030.93787, tolerance: 1454832032.4183369\n",
      "  positive)\n"
     ]
    },
    {
     "name": "stdout",
     "output_type": "stream",
     "text": [
      "[CV] .... alpha=0.1, l1_ratio=0.9, score=-735332155.355, total=   0.4s\n",
      "[CV] alpha=0.1, l1_ratio=0.9 .........................................\n"
     ]
    },
    {
     "name": "stderr",
     "output_type": "stream",
     "text": [
      "C:\\Users\\97150\\Anaconda3\\envs\\new_env\\lib\\site-packages\\sklearn\\linear_model\\_coordinate_descent.py:531: ConvergenceWarning: Objective did not converge. You might want to increase the number of iterations. Duality gap: 177428886765.1217, tolerance: 1567300499.9324098\n",
      "  positive)\n"
     ]
    },
    {
     "name": "stdout",
     "output_type": "stream",
     "text": [
      "[CV] .... alpha=0.1, l1_ratio=0.9, score=-370058082.059, total=   0.4s\n",
      "[CV] alpha=0.1, l1_ratio=0.9 .........................................\n"
     ]
    },
    {
     "name": "stderr",
     "output_type": "stream",
     "text": [
      "C:\\Users\\97150\\Anaconda3\\envs\\new_env\\lib\\site-packages\\sklearn\\linear_model\\_coordinate_descent.py:531: ConvergenceWarning: Objective did not converge. You might want to increase the number of iterations. Duality gap: 161709419688.29138, tolerance: 1563613929.1629386\n",
      "  positive)\n"
     ]
    },
    {
     "name": "stdout",
     "output_type": "stream",
     "text": [
      "[CV] .... alpha=0.1, l1_ratio=0.9, score=-377382624.680, total=   0.5s\n",
      "[CV] alpha=0.1, l1_ratio=0.9 .........................................\n"
     ]
    },
    {
     "name": "stderr",
     "output_type": "stream",
     "text": [
      "C:\\Users\\97150\\Anaconda3\\envs\\new_env\\lib\\site-packages\\sklearn\\linear_model\\_coordinate_descent.py:531: ConvergenceWarning: Objective did not converge. You might want to increase the number of iterations. Duality gap: 197768470769.1739, tolerance: 1548294253.8260388\n",
      "  positive)\n"
     ]
    },
    {
     "name": "stdout",
     "output_type": "stream",
     "text": [
      "[CV] .... alpha=0.1, l1_ratio=0.9, score=-432700847.811, total=   0.5s\n",
      "[CV] alpha=0.1, l1_ratio=0.9 .........................................\n"
     ]
    },
    {
     "name": "stderr",
     "output_type": "stream",
     "text": [
      "C:\\Users\\97150\\Anaconda3\\envs\\new_env\\lib\\site-packages\\sklearn\\linear_model\\_coordinate_descent.py:531: ConvergenceWarning: Objective did not converge. You might want to increase the number of iterations. Duality gap: 206562713357.9593, tolerance: 1605914768.0799258\n",
      "  positive)\n"
     ]
    },
    {
     "name": "stdout",
     "output_type": "stream",
     "text": [
      "[CV] .... alpha=0.1, l1_ratio=0.9, score=-392692957.328, total=   0.7s\n",
      "[CV] alpha=0.1, l1_ratio=0.9 .........................................\n"
     ]
    },
    {
     "name": "stderr",
     "output_type": "stream",
     "text": [
      "C:\\Users\\97150\\Anaconda3\\envs\\new_env\\lib\\site-packages\\sklearn\\linear_model\\_coordinate_descent.py:531: ConvergenceWarning: Objective did not converge. You might want to increase the number of iterations. Duality gap: 126804499746.78314, tolerance: 1515807608.6357646\n",
      "  positive)\n"
     ]
    },
    {
     "name": "stdout",
     "output_type": "stream",
     "text": [
      "[CV] .... alpha=0.1, l1_ratio=0.9, score=-622618203.000, total=   0.6s\n",
      "[CV] alpha=0.1, l1_ratio=0.9 .........................................\n"
     ]
    },
    {
     "name": "stderr",
     "output_type": "stream",
     "text": [
      "C:\\Users\\97150\\Anaconda3\\envs\\new_env\\lib\\site-packages\\sklearn\\linear_model\\_coordinate_descent.py:531: ConvergenceWarning: Objective did not converge. You might want to increase the number of iterations. Duality gap: 216764559126.22827, tolerance: 1545968373.693442\n",
      "  positive)\n"
     ]
    },
    {
     "name": "stdout",
     "output_type": "stream",
     "text": [
      "[CV] .... alpha=0.1, l1_ratio=0.9, score=-445012466.737, total=   0.6s\n",
      "[CV] alpha=0.1, l1_ratio=0.95 ........................................\n"
     ]
    },
    {
     "name": "stderr",
     "output_type": "stream",
     "text": [
      "C:\\Users\\97150\\Anaconda3\\envs\\new_env\\lib\\site-packages\\sklearn\\linear_model\\_coordinate_descent.py:531: ConvergenceWarning: Objective did not converge. You might want to increase the number of iterations. Duality gap: 385993726873.8457, tolerance: 1536859599.6164982\n",
      "  positive)\n"
     ]
    },
    {
     "name": "stdout",
     "output_type": "stream",
     "text": [
      "[CV] ... alpha=0.1, l1_ratio=0.95, score=-583270432.086, total=   0.6s\n",
      "[CV] alpha=0.1, l1_ratio=0.95 ........................................\n"
     ]
    },
    {
     "name": "stderr",
     "output_type": "stream",
     "text": [
      "C:\\Users\\97150\\Anaconda3\\envs\\new_env\\lib\\site-packages\\sklearn\\linear_model\\_coordinate_descent.py:531: ConvergenceWarning: Objective did not converge. You might want to increase the number of iterations. Duality gap: 381722118305.3538, tolerance: 1533543348.4009626\n",
      "  positive)\n"
     ]
    },
    {
     "name": "stdout",
     "output_type": "stream",
     "text": [
      "[CV] ... alpha=0.1, l1_ratio=0.95, score=-688732032.606, total=   0.5s\n",
      "[CV] alpha=0.1, l1_ratio=0.95 ........................................\n"
     ]
    },
    {
     "name": "stderr",
     "output_type": "stream",
     "text": [
      "C:\\Users\\97150\\Anaconda3\\envs\\new_env\\lib\\site-packages\\sklearn\\linear_model\\_coordinate_descent.py:531: ConvergenceWarning: Objective did not converge. You might want to increase the number of iterations. Duality gap: 405506150936.48, tolerance: 1569498936.193926\n",
      "  positive)\n"
     ]
    },
    {
     "name": "stdout",
     "output_type": "stream",
     "text": [
      "[CV] ... alpha=0.1, l1_ratio=0.95, score=-444036557.005, total=   0.5s\n",
      "[CV] alpha=0.1, l1_ratio=0.95 ........................................\n"
     ]
    },
    {
     "name": "stderr",
     "output_type": "stream",
     "text": [
      "C:\\Users\\97150\\Anaconda3\\envs\\new_env\\lib\\site-packages\\sklearn\\linear_model\\_coordinate_descent.py:531: ConvergenceWarning: Objective did not converge. You might want to increase the number of iterations. Duality gap: 377135454592.59015, tolerance: 1454832032.4183369\n",
      "  positive)\n"
     ]
    },
    {
     "name": "stdout",
     "output_type": "stream",
     "text": [
      "[CV] ... alpha=0.1, l1_ratio=0.95, score=-732994602.901, total=   0.5s\n",
      "[CV] alpha=0.1, l1_ratio=0.95 ........................................\n"
     ]
    },
    {
     "name": "stderr",
     "output_type": "stream",
     "text": [
      "C:\\Users\\97150\\Anaconda3\\envs\\new_env\\lib\\site-packages\\sklearn\\linear_model\\_coordinate_descent.py:531: ConvergenceWarning: Objective did not converge. You might want to increase the number of iterations. Duality gap: 406229982683.3506, tolerance: 1567300499.9324098\n",
      "  positive)\n"
     ]
    },
    {
     "name": "stdout",
     "output_type": "stream",
     "text": [
      "[CV] ... alpha=0.1, l1_ratio=0.95, score=-374117583.573, total=   0.5s\n",
      "[CV] alpha=0.1, l1_ratio=0.95 ........................................\n"
     ]
    },
    {
     "name": "stderr",
     "output_type": "stream",
     "text": [
      "C:\\Users\\97150\\Anaconda3\\envs\\new_env\\lib\\site-packages\\sklearn\\linear_model\\_coordinate_descent.py:531: ConvergenceWarning: Objective did not converge. You might want to increase the number of iterations. Duality gap: 396806419202.37244, tolerance: 1563613929.1629386\n",
      "  positive)\n"
     ]
    },
    {
     "name": "stdout",
     "output_type": "stream",
     "text": [
      "[CV] ... alpha=0.1, l1_ratio=0.95, score=-376713579.963, total=   0.5s\n",
      "[CV] alpha=0.1, l1_ratio=0.95 ........................................\n"
     ]
    },
    {
     "name": "stderr",
     "output_type": "stream",
     "text": [
      "C:\\Users\\97150\\Anaconda3\\envs\\new_env\\lib\\site-packages\\sklearn\\linear_model\\_coordinate_descent.py:531: ConvergenceWarning: Objective did not converge. You might want to increase the number of iterations. Duality gap: 412130505022.0846, tolerance: 1548294253.8260388\n",
      "  positive)\n"
     ]
    },
    {
     "name": "stdout",
     "output_type": "stream",
     "text": [
      "[CV] ... alpha=0.1, l1_ratio=0.95, score=-432992429.700, total=   0.6s\n",
      "[CV] alpha=0.1, l1_ratio=0.95 ........................................\n"
     ]
    },
    {
     "name": "stderr",
     "output_type": "stream",
     "text": [
      "C:\\Users\\97150\\Anaconda3\\envs\\new_env\\lib\\site-packages\\sklearn\\linear_model\\_coordinate_descent.py:531: ConvergenceWarning: Objective did not converge. You might want to increase the number of iterations. Duality gap: 422218141742.02454, tolerance: 1605914768.0799258\n",
      "  positive)\n"
     ]
    },
    {
     "name": "stdout",
     "output_type": "stream",
     "text": [
      "[CV] ... alpha=0.1, l1_ratio=0.95, score=-398057591.618, total=   0.5s\n",
      "[CV] alpha=0.1, l1_ratio=0.95 ........................................\n"
     ]
    },
    {
     "name": "stderr",
     "output_type": "stream",
     "text": [
      "C:\\Users\\97150\\Anaconda3\\envs\\new_env\\lib\\site-packages\\sklearn\\linear_model\\_coordinate_descent.py:531: ConvergenceWarning: Objective did not converge. You might want to increase the number of iterations. Duality gap: 350986938499.43146, tolerance: 1515807608.6357646\n",
      "  positive)\n"
     ]
    },
    {
     "name": "stdout",
     "output_type": "stream",
     "text": [
      "[CV] ... alpha=0.1, l1_ratio=0.95, score=-623099372.482, total=   0.5s\n",
      "[CV] alpha=0.1, l1_ratio=0.95 ........................................\n"
     ]
    },
    {
     "name": "stderr",
     "output_type": "stream",
     "text": [
      "C:\\Users\\97150\\Anaconda3\\envs\\new_env\\lib\\site-packages\\sklearn\\linear_model\\_coordinate_descent.py:531: ConvergenceWarning: Objective did not converge. You might want to increase the number of iterations. Duality gap: 403196307218.56, tolerance: 1545968373.693442\n",
      "  positive)\n"
     ]
    },
    {
     "name": "stdout",
     "output_type": "stream",
     "text": [
      "[CV] ... alpha=0.1, l1_ratio=0.95, score=-445309909.126, total=   0.5s\n",
      "[CV] alpha=0.1, l1_ratio=1 ...........................................\n"
     ]
    },
    {
     "name": "stderr",
     "output_type": "stream",
     "text": [
      "C:\\Users\\97150\\Anaconda3\\envs\\new_env\\lib\\site-packages\\sklearn\\linear_model\\_coordinate_descent.py:531: ConvergenceWarning: Objective did not converge. You might want to increase the number of iterations. Duality gap: 420551196169.13745, tolerance: 1536859599.6164982\n",
      "  positive)\n"
     ]
    },
    {
     "name": "stdout",
     "output_type": "stream",
     "text": [
      "[CV] ...... alpha=0.1, l1_ratio=1, score=-584848301.476, total=   0.5s\n",
      "[CV] alpha=0.1, l1_ratio=1 ...........................................\n"
     ]
    },
    {
     "name": "stderr",
     "output_type": "stream",
     "text": [
      "C:\\Users\\97150\\Anaconda3\\envs\\new_env\\lib\\site-packages\\sklearn\\linear_model\\_coordinate_descent.py:531: ConvergenceWarning: Objective did not converge. You might want to increase the number of iterations. Duality gap: 417121817442.22284, tolerance: 1533543348.4009626\n",
      "  positive)\n"
     ]
    },
    {
     "name": "stdout",
     "output_type": "stream",
     "text": [
      "[CV] ...... alpha=0.1, l1_ratio=1, score=-693600234.056, total=   0.5s\n",
      "[CV] alpha=0.1, l1_ratio=1 ...........................................\n"
     ]
    },
    {
     "name": "stderr",
     "output_type": "stream",
     "text": [
      "C:\\Users\\97150\\Anaconda3\\envs\\new_env\\lib\\site-packages\\sklearn\\linear_model\\_coordinate_descent.py:531: ConvergenceWarning: Objective did not converge. You might want to increase the number of iterations. Duality gap: 437997510911.61554, tolerance: 1569498936.193926\n",
      "  positive)\n"
     ]
    },
    {
     "name": "stdout",
     "output_type": "stream",
     "text": [
      "[CV] ...... alpha=0.1, l1_ratio=1, score=-446771241.166, total=   0.5s\n",
      "[CV] alpha=0.1, l1_ratio=1 ...........................................\n"
     ]
    },
    {
     "name": "stderr",
     "output_type": "stream",
     "text": [
      "C:\\Users\\97150\\Anaconda3\\envs\\new_env\\lib\\site-packages\\sklearn\\linear_model\\_coordinate_descent.py:531: ConvergenceWarning: Objective did not converge. You might want to increase the number of iterations. Duality gap: 409405264743.776, tolerance: 1454832032.4183369\n",
      "  positive)\n"
     ]
    },
    {
     "name": "stdout",
     "output_type": "stream",
     "text": [
      "[CV] ...... alpha=0.1, l1_ratio=1, score=-748040136.809, total=   0.5s\n",
      "[CV] alpha=0.1, l1_ratio=1 ...........................................\n"
     ]
    },
    {
     "name": "stderr",
     "output_type": "stream",
     "text": [
      "C:\\Users\\97150\\Anaconda3\\envs\\new_env\\lib\\site-packages\\sklearn\\linear_model\\_coordinate_descent.py:531: ConvergenceWarning: Objective did not converge. You might want to increase the number of iterations. Duality gap: 446367434233.456, tolerance: 1567300499.9324098\n",
      "  positive)\n"
     ]
    },
    {
     "name": "stdout",
     "output_type": "stream",
     "text": [
      "[CV] ...... alpha=0.1, l1_ratio=1, score=-379269571.493, total=   0.5s\n",
      "[CV] alpha=0.1, l1_ratio=1 ...........................................\n"
     ]
    },
    {
     "name": "stderr",
     "output_type": "stream",
     "text": [
      "C:\\Users\\97150\\Anaconda3\\envs\\new_env\\lib\\site-packages\\sklearn\\linear_model\\_coordinate_descent.py:531: ConvergenceWarning: Objective did not converge. You might want to increase the number of iterations. Duality gap: 448185024174.6113, tolerance: 1563613929.1629386\n",
      "  positive)\n"
     ]
    },
    {
     "name": "stdout",
     "output_type": "stream",
     "text": [
      "[CV] ...... alpha=0.1, l1_ratio=1, score=-376618590.537, total=   0.6s\n",
      "[CV] alpha=0.1, l1_ratio=1 ...........................................\n"
     ]
    },
    {
     "name": "stderr",
     "output_type": "stream",
     "text": [
      "C:\\Users\\97150\\Anaconda3\\envs\\new_env\\lib\\site-packages\\sklearn\\linear_model\\_coordinate_descent.py:531: ConvergenceWarning: Objective did not converge. You might want to increase the number of iterations. Duality gap: 444323486261.6606, tolerance: 1548294253.8260388\n",
      "  positive)\n"
     ]
    },
    {
     "name": "stdout",
     "output_type": "stream",
     "text": [
      "[CV] ...... alpha=0.1, l1_ratio=1, score=-437814174.352, total=   0.5s\n",
      "[CV] alpha=0.1, l1_ratio=1 ...........................................\n"
     ]
    },
    {
     "name": "stderr",
     "output_type": "stream",
     "text": [
      "C:\\Users\\97150\\Anaconda3\\envs\\new_env\\lib\\site-packages\\sklearn\\linear_model\\_coordinate_descent.py:531: ConvergenceWarning: Objective did not converge. You might want to increase the number of iterations. Duality gap: 445260109413.3401, tolerance: 1605914768.0799258\n",
      "  positive)\n"
     ]
    },
    {
     "name": "stdout",
     "output_type": "stream",
     "text": [
      "[CV] ...... alpha=0.1, l1_ratio=1, score=-428942210.553, total=   0.6s\n",
      "[CV] alpha=0.1, l1_ratio=1 ...........................................\n"
     ]
    },
    {
     "name": "stderr",
     "output_type": "stream",
     "text": [
      "C:\\Users\\97150\\Anaconda3\\envs\\new_env\\lib\\site-packages\\sklearn\\linear_model\\_coordinate_descent.py:531: ConvergenceWarning: Objective did not converge. You might want to increase the number of iterations. Duality gap: 416231542787.3803, tolerance: 1515807608.6357646\n",
      "  positive)\n"
     ]
    },
    {
     "name": "stdout",
     "output_type": "stream",
     "text": [
      "[CV] ...... alpha=0.1, l1_ratio=1, score=-612134821.435, total=   0.6s\n",
      "[CV] alpha=0.1, l1_ratio=1 ...........................................\n"
     ]
    },
    {
     "name": "stderr",
     "output_type": "stream",
     "text": [
      "C:\\Users\\97150\\Anaconda3\\envs\\new_env\\lib\\site-packages\\sklearn\\linear_model\\_coordinate_descent.py:531: ConvergenceWarning: Objective did not converge. You might want to increase the number of iterations. Duality gap: 440522245749.24304, tolerance: 1545968373.693442\n",
      "  positive)\n"
     ]
    },
    {
     "name": "stdout",
     "output_type": "stream",
     "text": [
      "[CV] ...... alpha=0.1, l1_ratio=1, score=-453532095.609, total=   0.5s\n",
      "[CV] alpha=1, l1_ratio=0.1 ...........................................\n",
      "[CV] ...... alpha=1, l1_ratio=0.1, score=-919110208.619, total=   0.1s\n",
      "[CV] alpha=1, l1_ratio=0.1 ...........................................\n",
      "[CV] ...... alpha=1, l1_ratio=0.1, score=-856504478.188, total=   0.1s\n",
      "[CV] alpha=1, l1_ratio=0.1 ...........................................\n",
      "[CV] ...... alpha=1, l1_ratio=0.1, score=-531801594.949, total=   0.1s\n",
      "[CV] alpha=1, l1_ratio=0.1 ...........................................\n",
      "[CV] ..... alpha=1, l1_ratio=0.1, score=-1420860394.493, total=   0.1s\n",
      "[CV] alpha=1, l1_ratio=0.1 ...........................................\n",
      "[CV] ...... alpha=1, l1_ratio=0.1, score=-415413963.667, total=   0.1s\n",
      "[CV] alpha=1, l1_ratio=0.1 ...........................................\n",
      "[CV] ...... alpha=1, l1_ratio=0.1, score=-528455920.084, total=   0.1s\n",
      "[CV] alpha=1, l1_ratio=0.1 ...........................................\n",
      "[CV] ...... alpha=1, l1_ratio=0.1, score=-678902962.279, total=   0.1s\n",
      "[CV] alpha=1, l1_ratio=0.1 ...........................................\n",
      "[CV] ...... alpha=1, l1_ratio=0.1, score=-374776031.291, total=   0.1s\n",
      "[CV] alpha=1, l1_ratio=0.1 ...........................................\n",
      "[CV] ...... alpha=1, l1_ratio=0.1, score=-877111049.072, total=   0.1s\n",
      "[CV] alpha=1, l1_ratio=0.1 ...........................................\n",
      "[CV] ...... alpha=1, l1_ratio=0.1, score=-608216548.387, total=   0.1s\n",
      "[CV] alpha=1, l1_ratio=0.5 ...........................................\n",
      "[CV] ...... alpha=1, l1_ratio=0.5, score=-805874322.001, total=   0.1s\n",
      "[CV] alpha=1, l1_ratio=0.5 ...........................................\n",
      "[CV] ...... alpha=1, l1_ratio=0.5, score=-773009696.574, total=   0.1s\n",
      "[CV] alpha=1, l1_ratio=0.5 ...........................................\n",
      "[CV] ...... alpha=1, l1_ratio=0.5, score=-472228876.961, total=   0.1s\n",
      "[CV] alpha=1, l1_ratio=0.5 ...........................................\n",
      "[CV] ..... alpha=1, l1_ratio=0.5, score=-1174424134.735, total=   0.1s\n",
      "[CV] alpha=1, l1_ratio=0.5 ...........................................\n",
      "[CV] ...... alpha=1, l1_ratio=0.5, score=-359665748.500, total=   0.1s\n",
      "[CV] alpha=1, l1_ratio=0.5 ...........................................\n",
      "[CV] ...... alpha=1, l1_ratio=0.5, score=-470375070.883, total=   0.1s\n",
      "[CV] alpha=1, l1_ratio=0.5 ...........................................\n",
      "[CV] ...... alpha=1, l1_ratio=0.5, score=-581942204.306, total=   0.1s\n",
      "[CV] alpha=1, l1_ratio=0.5 ...........................................\n",
      "[CV] ...... alpha=1, l1_ratio=0.5, score=-351548582.384, total=   0.1s\n",
      "[CV] alpha=1, l1_ratio=0.5 ...........................................\n",
      "[CV] ...... alpha=1, l1_ratio=0.5, score=-755465510.880, total=   0.1s\n",
      "[CV] alpha=1, l1_ratio=0.5 ...........................................\n",
      "[CV] ...... alpha=1, l1_ratio=0.5, score=-524875812.762, total=   0.1s\n",
      "[CV] alpha=1, l1_ratio=0.7 ...........................................\n",
      "[CV] ...... alpha=1, l1_ratio=0.7, score=-738056546.907, total=   0.1s\n",
      "[CV] alpha=1, l1_ratio=0.7 ...........................................\n",
      "[CV] ...... alpha=1, l1_ratio=0.7, score=-732497743.804, total=   0.1s\n",
      "[CV] alpha=1, l1_ratio=0.7 ...........................................\n",
      "[CV] ...... alpha=1, l1_ratio=0.7, score=-444491913.854, total=   0.1s\n",
      "[CV] alpha=1, l1_ratio=0.7 ...........................................\n",
      "[CV] ..... alpha=1, l1_ratio=0.7, score=-1026698185.702, total=   0.1s\n",
      "[CV] alpha=1, l1_ratio=0.7 ...........................................\n",
      "[CV] ...... alpha=1, l1_ratio=0.7, score=-340405796.862, total=   0.1s\n",
      "[CV] alpha=1, l1_ratio=0.7 ...........................................\n",
      "[CV] ...... alpha=1, l1_ratio=0.7, score=-440145590.668, total=   0.1s\n",
      "[CV] alpha=1, l1_ratio=0.7 ...........................................\n",
      "[CV] ...... alpha=1, l1_ratio=0.7, score=-528931929.467, total=   0.1s\n",
      "[CV] alpha=1, l1_ratio=0.7 ...........................................\n",
      "[CV] ...... alpha=1, l1_ratio=0.7, score=-344671699.838, total=   0.1s\n",
      "[CV] alpha=1, l1_ratio=0.7 ...........................................\n",
      "[CV] ...... alpha=1, l1_ratio=0.7, score=-690955561.497, total=   0.1s\n",
      "[CV] alpha=1, l1_ratio=0.7 ...........................................\n",
      "[CV] ...... alpha=1, l1_ratio=0.7, score=-483927943.122, total=   0.1s\n",
      "[CV] alpha=1, l1_ratio=0.85 ..........................................\n",
      "[CV] ..... alpha=1, l1_ratio=0.85, score=-676222263.841, total=   0.1s\n",
      "[CV] alpha=1, l1_ratio=0.85 ..........................................\n",
      "[CV] ..... alpha=1, l1_ratio=0.85, score=-705045263.453, total=   0.1s\n",
      "[CV] alpha=1, l1_ratio=0.85 ..........................................\n",
      "[CV] ..... alpha=1, l1_ratio=0.85, score=-428450373.137, total=   0.1s\n",
      "[CV] alpha=1, l1_ratio=0.85 ..........................................\n",
      "[CV] ..... alpha=1, l1_ratio=0.85, score=-895739397.991, total=   0.1s\n",
      "[CV] alpha=1, l1_ratio=0.85 ..........................................\n",
      "[CV] ..... alpha=1, l1_ratio=0.85, score=-337543892.878, total=   0.1s\n",
      "[CV] alpha=1, l1_ratio=0.85 ..........................................\n",
      "[CV] ..... alpha=1, l1_ratio=0.85, score=-413657909.524, total=   0.1s\n",
      "[CV] alpha=1, l1_ratio=0.85 ..........................................\n",
      "[CV] ..... alpha=1, l1_ratio=0.85, score=-484455014.987, total=   0.1s\n",
      "[CV] alpha=1, l1_ratio=0.85 ..........................................\n",
      "[CV] ..... alpha=1, l1_ratio=0.85, score=-348554440.363, total=   0.1s\n",
      "[CV] alpha=1, l1_ratio=0.85 ..........................................\n",
      "[CV] ..... alpha=1, l1_ratio=0.85, score=-644723779.915, total=   0.1s\n",
      "[CV] alpha=1, l1_ratio=0.85 ..........................................\n",
      "[CV] ..... alpha=1, l1_ratio=0.85, score=-456977333.820, total=   0.1s\n",
      "[CV] alpha=1, l1_ratio=0.9 ...........................................\n",
      "[CV] ...... alpha=1, l1_ratio=0.9, score=-650929262.223, total=   0.1s\n",
      "[CV] alpha=1, l1_ratio=0.9 ...........................................\n",
      "[CV] ...... alpha=1, l1_ratio=0.9, score=-697145043.349, total=   0.2s\n",
      "[CV] alpha=1, l1_ratio=0.9 ...........................................\n",
      "[CV] ...... alpha=1, l1_ratio=0.9, score=-425950567.770, total=   0.2s\n",
      "[CV] alpha=1, l1_ratio=0.9 ...........................................\n",
      "[CV] ...... alpha=1, l1_ratio=0.9, score=-844722463.903, total=   0.2s\n",
      "[CV] alpha=1, l1_ratio=0.9 ...........................................\n",
      "[CV] ...... alpha=1, l1_ratio=0.9, score=-341585836.321, total=   0.2s\n",
      "[CV] alpha=1, l1_ratio=0.9 ...........................................\n",
      "[CV] ...... alpha=1, l1_ratio=0.9, score=-402523064.549, total=   0.1s\n",
      "[CV] alpha=1, l1_ratio=0.9 ...........................................\n",
      "[CV] ...... alpha=1, l1_ratio=0.9, score=-467322479.663, total=   0.1s\n",
      "[CV] alpha=1, l1_ratio=0.9 ...........................................\n",
      "[CV] ...... alpha=1, l1_ratio=0.9, score=-355026409.423, total=   0.1s\n",
      "[CV] alpha=1, l1_ratio=0.9 ...........................................\n",
      "[CV] ...... alpha=1, l1_ratio=0.9, score=-631721175.786, total=   0.1s\n",
      "[CV] alpha=1, l1_ratio=0.9 ...........................................\n",
      "[CV] ...... alpha=1, l1_ratio=0.9, score=-449963776.392, total=   0.2s\n",
      "[CV] alpha=1, l1_ratio=0.95 ..........................................\n",
      "[CV] ..... alpha=1, l1_ratio=0.95, score=-620029990.390, total=   0.2s\n",
      "[CV] alpha=1, l1_ratio=0.95 ..........................................\n",
      "[CV] ..... alpha=1, l1_ratio=0.95, score=-690215453.202, total=   0.2s\n",
      "[CV] alpha=1, l1_ratio=0.95 ..........................................\n",
      "[CV] ..... alpha=1, l1_ratio=0.95, score=-427845961.895, total=   0.2s\n",
      "[CV] alpha=1, l1_ratio=0.95 ..........................................\n",
      "[CV] ..... alpha=1, l1_ratio=0.95, score=-786235550.365, total=   0.2s\n",
      "[CV] alpha=1, l1_ratio=0.95 ..........................................\n",
      "[CV] ..... alpha=1, l1_ratio=0.95, score=-351223714.377, total=   0.2s\n",
      "[CV] alpha=1, l1_ratio=0.95 ..........................................\n",
      "[CV] ..... alpha=1, l1_ratio=0.95, score=-388899224.665, total=   0.2s\n",
      "[CV] alpha=1, l1_ratio=0.95 ..........................................\n",
      "[CV] ..... alpha=1, l1_ratio=0.95, score=-447718250.967, total=   0.2s\n",
      "[CV] alpha=1, l1_ratio=0.95 ..........................................\n",
      "[CV] ..... alpha=1, l1_ratio=0.95, score=-368479226.424, total=   0.2s\n",
      "[CV] alpha=1, l1_ratio=0.95 ..........................................\n",
      "[CV] ..... alpha=1, l1_ratio=0.95, score=-622336814.508, total=   0.2s\n",
      "[CV] alpha=1, l1_ratio=0.95 ..........................................\n",
      "[CV] ..... alpha=1, l1_ratio=0.95, score=-445141174.081, total=   0.2s\n",
      "[CV] alpha=1, l1_ratio=1 .............................................\n"
     ]
    },
    {
     "name": "stderr",
     "output_type": "stream",
     "text": [
      "C:\\Users\\97150\\Anaconda3\\envs\\new_env\\lib\\site-packages\\sklearn\\linear_model\\_coordinate_descent.py:531: ConvergenceWarning: Objective did not converge. You might want to increase the number of iterations. Duality gap: 336622039098.4667, tolerance: 1536859599.6164982\n",
      "  positive)\n"
     ]
    },
    {
     "name": "stdout",
     "output_type": "stream",
     "text": [
      "[CV] ........ alpha=1, l1_ratio=1, score=-584145143.255, total=   0.5s\n",
      "[CV] alpha=1, l1_ratio=1 .............................................\n"
     ]
    },
    {
     "name": "stderr",
     "output_type": "stream",
     "text": [
      "C:\\Users\\97150\\Anaconda3\\envs\\new_env\\lib\\site-packages\\sklearn\\linear_model\\_coordinate_descent.py:531: ConvergenceWarning: Objective did not converge. You might want to increase the number of iterations. Duality gap: 357200489291.49774, tolerance: 1533543348.4009626\n",
      "  positive)\n"
     ]
    },
    {
     "name": "stdout",
     "output_type": "stream",
     "text": [
      "[CV] ........ alpha=1, l1_ratio=1, score=-692448158.901, total=   0.5s\n",
      "[CV] alpha=1, l1_ratio=1 .............................................\n"
     ]
    },
    {
     "name": "stderr",
     "output_type": "stream",
     "text": [
      "C:\\Users\\97150\\Anaconda3\\envs\\new_env\\lib\\site-packages\\sklearn\\linear_model\\_coordinate_descent.py:531: ConvergenceWarning: Objective did not converge. You might want to increase the number of iterations. Duality gap: 375780696346.18524, tolerance: 1569498936.193926\n",
      "  positive)\n"
     ]
    },
    {
     "name": "stdout",
     "output_type": "stream",
     "text": [
      "[CV] ........ alpha=1, l1_ratio=1, score=-446467089.002, total=   0.5s\n",
      "[CV] alpha=1, l1_ratio=1 .............................................\n"
     ]
    },
    {
     "name": "stderr",
     "output_type": "stream",
     "text": [
      "C:\\Users\\97150\\Anaconda3\\envs\\new_env\\lib\\site-packages\\sklearn\\linear_model\\_coordinate_descent.py:531: ConvergenceWarning: Objective did not converge. You might want to increase the number of iterations. Duality gap: 352614361071.6271, tolerance: 1454832032.4183369\n",
      "  positive)\n"
     ]
    },
    {
     "name": "stdout",
     "output_type": "stream",
     "text": [
      "[CV] ........ alpha=1, l1_ratio=1, score=-746144753.835, total=   0.5s\n",
      "[CV] alpha=1, l1_ratio=1 .............................................\n"
     ]
    },
    {
     "name": "stderr",
     "output_type": "stream",
     "text": [
      "C:\\Users\\97150\\Anaconda3\\envs\\new_env\\lib\\site-packages\\sklearn\\linear_model\\_coordinate_descent.py:531: ConvergenceWarning: Objective did not converge. You might want to increase the number of iterations. Duality gap: 385484472771.5528, tolerance: 1567300499.9324098\n",
      "  positive)\n"
     ]
    },
    {
     "name": "stdout",
     "output_type": "stream",
     "text": [
      "[CV] ........ alpha=1, l1_ratio=1, score=-378597724.515, total=   0.5s\n",
      "[CV] alpha=1, l1_ratio=1 .............................................\n"
     ]
    },
    {
     "name": "stderr",
     "output_type": "stream",
     "text": [
      "C:\\Users\\97150\\Anaconda3\\envs\\new_env\\lib\\site-packages\\sklearn\\linear_model\\_coordinate_descent.py:531: ConvergenceWarning: Objective did not converge. You might want to increase the number of iterations. Duality gap: 371667754364.95605, tolerance: 1563613929.1629386\n",
      "  positive)\n"
     ]
    },
    {
     "name": "stdout",
     "output_type": "stream",
     "text": [
      "[CV] ........ alpha=1, l1_ratio=1, score=-375731760.551, total=   0.5s\n",
      "[CV] alpha=1, l1_ratio=1 .............................................\n"
     ]
    },
    {
     "name": "stderr",
     "output_type": "stream",
     "text": [
      "C:\\Users\\97150\\Anaconda3\\envs\\new_env\\lib\\site-packages\\sklearn\\linear_model\\_coordinate_descent.py:531: ConvergenceWarning: Objective did not converge. You might want to increase the number of iterations. Duality gap: 391283473242.7317, tolerance: 1548294253.8260388\n",
      "  positive)\n"
     ]
    },
    {
     "name": "stdout",
     "output_type": "stream",
     "text": [
      "[CV] ........ alpha=1, l1_ratio=1, score=-437578603.733, total=   0.5s\n",
      "[CV] alpha=1, l1_ratio=1 .............................................\n"
     ]
    },
    {
     "name": "stderr",
     "output_type": "stream",
     "text": [
      "C:\\Users\\97150\\Anaconda3\\envs\\new_env\\lib\\site-packages\\sklearn\\linear_model\\_coordinate_descent.py:531: ConvergenceWarning: Objective did not converge. You might want to increase the number of iterations. Duality gap: 367234910817.2877, tolerance: 1605914768.0799258\n",
      "  positive)\n"
     ]
    },
    {
     "name": "stdout",
     "output_type": "stream",
     "text": [
      "[CV] ........ alpha=1, l1_ratio=1, score=-422038756.881, total=   0.5s\n",
      "[CV] alpha=1, l1_ratio=1 .............................................\n"
     ]
    },
    {
     "name": "stderr",
     "output_type": "stream",
     "text": [
      "C:\\Users\\97150\\Anaconda3\\envs\\new_env\\lib\\site-packages\\sklearn\\linear_model\\_coordinate_descent.py:531: ConvergenceWarning: Objective did not converge. You might want to increase the number of iterations. Duality gap: 309138890465.0779, tolerance: 1515807608.6357646\n",
      "  positive)\n"
     ]
    },
    {
     "name": "stdout",
     "output_type": "stream",
     "text": [
      "[CV] ........ alpha=1, l1_ratio=1, score=-612417304.500, total=   0.5s\n",
      "[CV] alpha=1, l1_ratio=1 .............................................\n"
     ]
    },
    {
     "name": "stderr",
     "output_type": "stream",
     "text": [
      "C:\\Users\\97150\\Anaconda3\\envs\\new_env\\lib\\site-packages\\sklearn\\linear_model\\_coordinate_descent.py:531: ConvergenceWarning: Objective did not converge. You might want to increase the number of iterations. Duality gap: 372017055534.2083, tolerance: 1545968373.693442\n",
      "  positive)\n"
     ]
    },
    {
     "name": "stdout",
     "output_type": "stream",
     "text": [
      "[CV] ........ alpha=1, l1_ratio=1, score=-451023070.456, total=   0.5s\n",
      "[CV] alpha=5, l1_ratio=0.1 ...........................................\n",
      "[CV] ..... alpha=5, l1_ratio=0.1, score=-1605498886.184, total=   0.0s\n",
      "[CV] alpha=5, l1_ratio=0.1 ...........................................\n",
      "[CV] ..... alpha=5, l1_ratio=0.1, score=-1519969960.031, total=   0.0s\n",
      "[CV] alpha=5, l1_ratio=0.1 ...........................................\n",
      "[CV] ..... alpha=5, l1_ratio=0.1, score=-1015967206.515, total=   0.0s\n",
      "[CV] alpha=5, l1_ratio=0.1 ...........................................\n",
      "[CV] ..... alpha=5, l1_ratio=0.1, score=-2768069697.881, total=   0.0s\n",
      "[CV] alpha=5, l1_ratio=0.1 ...........................................\n",
      "[CV] ...... alpha=5, l1_ratio=0.1, score=-946613988.285, total=   0.0s\n",
      "[CV] alpha=5, l1_ratio=0.1 ...........................................\n",
      "[CV] ..... alpha=5, l1_ratio=0.1, score=-1030068946.861, total=   0.0s\n",
      "[CV] alpha=5, l1_ratio=0.1 ...........................................\n",
      "[CV] ..... alpha=5, l1_ratio=0.1, score=-1356810227.241, total=   0.0s\n",
      "[CV] alpha=5, l1_ratio=0.1 ...........................................\n",
      "[CV] ...... alpha=5, l1_ratio=0.1, score=-625072385.616, total=   0.0s\n",
      "[CV] alpha=5, l1_ratio=0.1 ...........................................\n",
      "[CV] ..... alpha=5, l1_ratio=0.1, score=-1684441482.595, total=   0.0s\n",
      "[CV] alpha=5, l1_ratio=0.1 ...........................................\n",
      "[CV] ..... alpha=5, l1_ratio=0.1, score=-1237209605.833, total=   0.0s\n",
      "[CV] alpha=5, l1_ratio=0.5 ...........................................\n",
      "[CV] ..... alpha=5, l1_ratio=0.5, score=-1264236191.939, total=   0.0s\n",
      "[CV] alpha=5, l1_ratio=0.5 ...........................................\n",
      "[CV] ..... alpha=5, l1_ratio=0.5, score=-1171294863.588, total=   0.0s\n",
      "[CV] alpha=5, l1_ratio=0.5 ...........................................\n",
      "[CV] ...... alpha=5, l1_ratio=0.5, score=-759644712.769, total=   0.0s\n",
      "[CV] alpha=5, l1_ratio=0.5 ...........................................\n",
      "[CV] ..... alpha=5, l1_ratio=0.5, score=-2130365304.854, total=   0.0s\n",
      "[CV] alpha=5, l1_ratio=0.5 ...........................................\n",
      "[CV] ...... alpha=5, l1_ratio=0.5, score=-662304282.980, total=   0.0s\n",
      "[CV] alpha=5, l1_ratio=0.5 ...........................................\n",
      "[CV] ...... alpha=5, l1_ratio=0.5, score=-758440180.854, total=   0.0s\n",
      "[CV] alpha=5, l1_ratio=0.5 ...........................................\n",
      "[CV] ..... alpha=5, l1_ratio=0.5, score=-1010754088.538, total=   0.0s\n",
      "[CV] alpha=5, l1_ratio=0.5 ...........................................\n",
      "[CV] ...... alpha=5, l1_ratio=0.5, score=-483091846.688, total=   0.0s\n",
      "[CV] alpha=5, l1_ratio=0.5 ...........................................\n",
      "[CV] ..... alpha=5, l1_ratio=0.5, score=-1277161222.929, total=   0.0s\n",
      "[CV] alpha=5, l1_ratio=0.5 ...........................................\n",
      "[CV] ...... alpha=5, l1_ratio=0.5, score=-909449708.067, total=   0.0s\n",
      "[CV] alpha=5, l1_ratio=0.7 ...........................................\n",
      "[CV] ..... alpha=5, l1_ratio=0.7, score=-1061821526.979, total=   0.0s\n",
      "[CV] alpha=5, l1_ratio=0.7 ...........................................\n",
      "[CV] ...... alpha=5, l1_ratio=0.7, score=-979012752.853, total=   0.0s\n",
      "[CV] alpha=5, l1_ratio=0.7 ...........................................\n",
      "[CV] ...... alpha=5, l1_ratio=0.7, score=-620243532.967, total=   0.0s\n",
      "[CV] alpha=5, l1_ratio=0.7 ...........................................\n",
      "[CV] ..... alpha=5, l1_ratio=0.7, score=-1723075646.023, total=   0.0s\n",
      "[CV] alpha=5, l1_ratio=0.7 ...........................................\n",
      "[CV] ...... alpha=5, l1_ratio=0.7, score=-508766355.034, total=   0.0s\n",
      "[CV] alpha=5, l1_ratio=0.7 ...........................................\n",
      "[CV] ...... alpha=5, l1_ratio=0.7, score=-615560127.474, total=   0.0s\n",
      "[CV] alpha=5, l1_ratio=0.7 ...........................................\n",
      "[CV] ...... alpha=5, l1_ratio=0.7, score=-811732891.642, total=   0.0s\n",
      "[CV] alpha=5, l1_ratio=0.7 ...........................................\n",
      "[CV] ...... alpha=5, l1_ratio=0.7, score=-414343754.671, total=   0.0s\n",
      "[CV] alpha=5, l1_ratio=0.7 ...........................................\n",
      "[CV] ..... alpha=5, l1_ratio=0.7, score=-1039832163.295, total=   0.0s\n",
      "[CV] alpha=5, l1_ratio=0.7 ...........................................\n",
      "[CV] ...... alpha=5, l1_ratio=0.7, score=-727076817.960, total=   0.0s\n",
      "[CV] alpha=5, l1_ratio=0.85 ..........................................\n",
      "[CV] ..... alpha=5, l1_ratio=0.85, score=-879210935.924, total=   0.0s\n",
      "[CV] alpha=5, l1_ratio=0.85 ..........................................\n",
      "[CV] ..... alpha=5, l1_ratio=0.85, score=-825462614.799, total=   0.1s\n",
      "[CV] alpha=5, l1_ratio=0.85 ..........................................\n",
      "[CV] ..... alpha=5, l1_ratio=0.85, score=-509498264.803, total=   0.1s\n",
      "[CV] alpha=5, l1_ratio=0.85 ..........................................\n",
      "[CV] .... alpha=5, l1_ratio=0.85, score=-1334889817.287, total=   0.1s\n",
      "[CV] alpha=5, l1_ratio=0.85 ..........................................\n",
      "[CV] ..... alpha=5, l1_ratio=0.85, score=-393285073.378, total=   0.0s\n",
      "[CV] alpha=5, l1_ratio=0.85 ..........................................\n",
      "[CV] ..... alpha=5, l1_ratio=0.85, score=-506947602.906, total=   0.1s\n",
      "[CV] alpha=5, l1_ratio=0.85 ..........................................\n",
      "[CV] ..... alpha=5, l1_ratio=0.85, score=-643935605.093, total=   0.1s\n",
      "[CV] alpha=5, l1_ratio=0.85 ..........................................\n",
      "[CV] ..... alpha=5, l1_ratio=0.85, score=-365315547.883, total=   0.1s\n",
      "[CV] alpha=5, l1_ratio=0.85 ..........................................\n",
      "[CV] ..... alpha=5, l1_ratio=0.85, score=-833091794.003, total=   0.0s\n",
      "[CV] alpha=5, l1_ratio=0.85 ..........................................\n",
      "[CV] ..... alpha=5, l1_ratio=0.85, score=-577391843.010, total=   0.1s\n",
      "[CV] alpha=5, l1_ratio=0.9 ...........................................\n",
      "[CV] ...... alpha=5, l1_ratio=0.9, score=-805910523.277, total=   0.1s\n",
      "[CV] alpha=5, l1_ratio=0.9 ...........................................\n",
      "[CV] ...... alpha=5, l1_ratio=0.9, score=-773244758.926, total=   0.1s\n",
      "[CV] alpha=5, l1_ratio=0.9 ...........................................\n",
      "[CV] ...... alpha=5, l1_ratio=0.9, score=-472350976.202, total=   0.1s\n",
      "[CV] alpha=5, l1_ratio=0.9 ...........................................\n",
      "[CV] ..... alpha=5, l1_ratio=0.9, score=-1175140732.514, total=   0.1s\n",
      "[CV] alpha=5, l1_ratio=0.9 ...........................................\n",
      "[CV] ...... alpha=5, l1_ratio=0.9, score=-359611626.058, total=   0.1s\n",
      "[CV] alpha=5, l1_ratio=0.9 ...........................................\n",
      "[CV] ...... alpha=5, l1_ratio=0.9, score=-470517663.381, total=   0.1s\n",
      "[CV] alpha=5, l1_ratio=0.9 ...........................................\n",
      "[CV] ...... alpha=5, l1_ratio=0.9, score=-582277832.812, total=   0.1s\n",
      "[CV] alpha=5, l1_ratio=0.9 ...........................................\n",
      "[CV] ...... alpha=5, l1_ratio=0.9, score=-351340497.229, total=   0.1s\n",
      "[CV] alpha=5, l1_ratio=0.9 ...........................................\n",
      "[CV] ...... alpha=5, l1_ratio=0.9, score=-755521133.297, total=   0.1s\n",
      "[CV] alpha=5, l1_ratio=0.9 ...........................................\n",
      "[CV] ...... alpha=5, l1_ratio=0.9, score=-524887031.404, total=   0.1s\n",
      "[CV] alpha=5, l1_ratio=0.95 ..........................................\n",
      "[CV] ..... alpha=5, l1_ratio=0.95, score=-718764947.460, total=   0.1s\n",
      "[CV] alpha=5, l1_ratio=0.95 ..........................................\n",
      "[CV] ..... alpha=5, l1_ratio=0.95, score=-722972024.472, total=   0.1s\n",
      "[CV] alpha=5, l1_ratio=0.95 ..........................................\n",
      "[CV] ..... alpha=5, l1_ratio=0.95, score=-438302152.545, total=   0.1s\n",
      "[CV] alpha=5, l1_ratio=0.95 ..........................................\n",
      "[CV] ..... alpha=5, l1_ratio=0.95, score=-986244833.472, total=   0.1s\n",
      "[CV] alpha=5, l1_ratio=0.95 ..........................................\n",
      "[CV] ..... alpha=5, l1_ratio=0.95, score=-337488686.069, total=   0.1s\n",
      "[CV] alpha=5, l1_ratio=0.95 ..........................................\n",
      "[CV] ..... alpha=5, l1_ratio=0.95, score=-431964595.483, total=   0.1s\n",
      "[CV] alpha=5, l1_ratio=0.95 ..........................................\n",
      "[CV] ..... alpha=5, l1_ratio=0.95, score=-515114086.288, total=   0.1s\n",
      "[CV] alpha=5, l1_ratio=0.95 ..........................................\n",
      "[CV] ..... alpha=5, l1_ratio=0.95, score=-343988004.583, total=   0.1s\n",
      "[CV] alpha=5, l1_ratio=0.95 ..........................................\n",
      "[CV] ..... alpha=5, l1_ratio=0.95, score=-674860318.995, total=   0.1s\n",
      "[CV] alpha=5, l1_ratio=0.95 ..........................................\n",
      "[CV] ..... alpha=5, l1_ratio=0.95, score=-474097451.961, total=   0.1s\n",
      "[CV] alpha=5, l1_ratio=1 .............................................\n"
     ]
    },
    {
     "name": "stderr",
     "output_type": "stream",
     "text": [
      "C:\\Users\\97150\\Anaconda3\\envs\\new_env\\lib\\site-packages\\sklearn\\linear_model\\_coordinate_descent.py:531: ConvergenceWarning: Objective did not converge. You might want to increase the number of iterations. Duality gap: 161935798487.8938, tolerance: 1536859599.6164982\n",
      "  positive)\n"
     ]
    },
    {
     "name": "stdout",
     "output_type": "stream",
     "text": [
      "[CV] ........ alpha=5, l1_ratio=1, score=-581682083.170, total=   0.5s\n",
      "[CV] alpha=5, l1_ratio=1 .............................................\n"
     ]
    },
    {
     "name": "stderr",
     "output_type": "stream",
     "text": [
      "C:\\Users\\97150\\Anaconda3\\envs\\new_env\\lib\\site-packages\\sklearn\\linear_model\\_coordinate_descent.py:531: ConvergenceWarning: Objective did not converge. You might want to increase the number of iterations. Duality gap: 197563191008.77585, tolerance: 1533543348.4009626\n",
      "  positive)\n"
     ]
    },
    {
     "name": "stdout",
     "output_type": "stream",
     "text": [
      "[CV] ........ alpha=5, l1_ratio=1, score=-688242064.951, total=   0.5s\n",
      "[CV] alpha=5, l1_ratio=1 .............................................\n"
     ]
    },
    {
     "name": "stderr",
     "output_type": "stream",
     "text": [
      "C:\\Users\\97150\\Anaconda3\\envs\\new_env\\lib\\site-packages\\sklearn\\linear_model\\_coordinate_descent.py:531: ConvergenceWarning: Objective did not converge. You might want to increase the number of iterations. Duality gap: 215306725171.9839, tolerance: 1569498936.193926\n",
      "  positive)\n"
     ]
    },
    {
     "name": "stdout",
     "output_type": "stream",
     "text": [
      "[CV] ........ alpha=5, l1_ratio=1, score=-444897718.439, total=   0.5s\n",
      "[CV] alpha=5, l1_ratio=1 .............................................\n"
     ]
    },
    {
     "name": "stderr",
     "output_type": "stream",
     "text": [
      "C:\\Users\\97150\\Anaconda3\\envs\\new_env\\lib\\site-packages\\sklearn\\linear_model\\_coordinate_descent.py:531: ConvergenceWarning: Objective did not converge. You might want to increase the number of iterations. Duality gap: 203927599659.5967, tolerance: 1454832032.4183369\n",
      "  positive)\n"
     ]
    },
    {
     "name": "stdout",
     "output_type": "stream",
     "text": [
      "[CV] ........ alpha=5, l1_ratio=1, score=-741002217.908, total=   0.5s\n",
      "[CV] alpha=5, l1_ratio=1 .............................................\n"
     ]
    },
    {
     "name": "stderr",
     "output_type": "stream",
     "text": [
      "C:\\Users\\97150\\Anaconda3\\envs\\new_env\\lib\\site-packages\\sklearn\\linear_model\\_coordinate_descent.py:531: ConvergenceWarning: Objective did not converge. You might want to increase the number of iterations. Duality gap: 225238220449.88153, tolerance: 1567300499.9324098\n",
      "  positive)\n"
     ]
    },
    {
     "name": "stdout",
     "output_type": "stream",
     "text": [
      "[CV] ........ alpha=5, l1_ratio=1, score=-376507355.852, total=   0.5s\n",
      "[CV] alpha=5, l1_ratio=1 .............................................\n"
     ]
    },
    {
     "name": "stderr",
     "output_type": "stream",
     "text": [
      "C:\\Users\\97150\\Anaconda3\\envs\\new_env\\lib\\site-packages\\sklearn\\linear_model\\_coordinate_descent.py:531: ConvergenceWarning: Objective did not converge. You might want to increase the number of iterations. Duality gap: 191435360640.93994, tolerance: 1563613929.1629386\n",
      "  positive)\n"
     ]
    },
    {
     "name": "stdout",
     "output_type": "stream",
     "text": [
      "[CV] ........ alpha=5, l1_ratio=1, score=-373420609.728, total=   0.5s\n",
      "[CV] alpha=5, l1_ratio=1 .............................................\n"
     ]
    },
    {
     "name": "stderr",
     "output_type": "stream",
     "text": [
      "C:\\Users\\97150\\Anaconda3\\envs\\new_env\\lib\\site-packages\\sklearn\\linear_model\\_coordinate_descent.py:531: ConvergenceWarning: Objective did not converge. You might want to increase the number of iterations. Duality gap: 242480330009.68982, tolerance: 1548294253.8260388\n",
      "  positive)\n"
     ]
    },
    {
     "name": "stdout",
     "output_type": "stream",
     "text": [
      "[CV] ........ alpha=5, l1_ratio=1, score=-435674516.679, total=   0.4s\n",
      "[CV] alpha=5, l1_ratio=1 .............................................\n"
     ]
    },
    {
     "name": "stderr",
     "output_type": "stream",
     "text": [
      "C:\\Users\\97150\\Anaconda3\\envs\\new_env\\lib\\site-packages\\sklearn\\linear_model\\_coordinate_descent.py:531: ConvergenceWarning: Objective did not converge. You might want to increase the number of iterations. Duality gap: 186286715627.2151, tolerance: 1605914768.0799258\n",
      "  positive)\n"
     ]
    },
    {
     "name": "stdout",
     "output_type": "stream",
     "text": [
      "[CV] ........ alpha=5, l1_ratio=1, score=-403749440.496, total=   0.5s\n",
      "[CV] alpha=5, l1_ratio=1 .............................................\n"
     ]
    },
    {
     "name": "stderr",
     "output_type": "stream",
     "text": [
      "C:\\Users\\97150\\Anaconda3\\envs\\new_env\\lib\\site-packages\\sklearn\\linear_model\\_coordinate_descent.py:531: ConvergenceWarning: Objective did not converge. You might want to increase the number of iterations. Duality gap: 9532241328.293457, tolerance: 1515807608.6357646\n",
      "  positive)\n"
     ]
    },
    {
     "name": "stdout",
     "output_type": "stream",
     "text": [
      "[CV] ........ alpha=5, l1_ratio=1, score=-616986630.927, total=   0.5s\n",
      "[CV] alpha=5, l1_ratio=1 .............................................\n"
     ]
    },
    {
     "name": "stderr",
     "output_type": "stream",
     "text": [
      "C:\\Users\\97150\\Anaconda3\\envs\\new_env\\lib\\site-packages\\sklearn\\linear_model\\_coordinate_descent.py:531: ConvergenceWarning: Objective did not converge. You might want to increase the number of iterations. Duality gap: 127395919920.7475, tolerance: 1545968373.693442\n",
      "  positive)\n"
     ]
    },
    {
     "name": "stdout",
     "output_type": "stream",
     "text": [
      "[CV] ........ alpha=5, l1_ratio=1, score=-444486128.702, total=   0.4s\n",
      "[CV] alpha=10, l1_ratio=0.1 ..........................................\n",
      "[CV] .... alpha=10, l1_ratio=0.1, score=-2221485062.629, total=   0.0s\n",
      "[CV] alpha=10, l1_ratio=0.1 ..........................................\n",
      "[CV] .... alpha=10, l1_ratio=0.1, score=-2173772103.067, total=   0.0s\n",
      "[CV] alpha=10, l1_ratio=0.1 ..........................................\n",
      "[CV] .... alpha=10, l1_ratio=0.1, score=-1514715631.120, total=   0.0s\n",
      "[CV] alpha=10, l1_ratio=0.1 ..........................................\n",
      "[CV] .... alpha=10, l1_ratio=0.1, score=-3807456164.372, total=   0.0s\n",
      "[CV] alpha=10, l1_ratio=0.1 ..........................................\n",
      "[CV] .... alpha=10, l1_ratio=0.1, score=-1490557286.324, total=   0.0s\n",
      "[CV] alpha=10, l1_ratio=0.1 ..........................................\n",
      "[CV] .... alpha=10, l1_ratio=0.1, score=-1564691821.193, total=   0.0s\n",
      "[CV] alpha=10, l1_ratio=0.1 ..........................................\n",
      "[CV] .... alpha=10, l1_ratio=0.1, score=-1981260563.330, total=   0.0s\n",
      "[CV] alpha=10, l1_ratio=0.1 ..........................................\n",
      "[CV] ..... alpha=10, l1_ratio=0.1, score=-942754289.759, total=   0.0s\n",
      "[CV] alpha=10, l1_ratio=0.1 ..........................................\n",
      "[CV] .... alpha=10, l1_ratio=0.1, score=-2423449818.415, total=   0.0s\n",
      "[CV] alpha=10, l1_ratio=0.1 ..........................................\n",
      "[CV] .... alpha=10, l1_ratio=0.1, score=-1857075490.086, total=   0.0s\n",
      "[CV] alpha=10, l1_ratio=0.5 ..........................................\n",
      "[CV] .... alpha=10, l1_ratio=0.5, score=-1682874618.166, total=   0.0s\n",
      "[CV] alpha=10, l1_ratio=0.5 ..........................................\n",
      "[CV] .... alpha=10, l1_ratio=0.5, score=-1601266523.024, total=   0.0s\n",
      "[CV] alpha=10, l1_ratio=0.5 ..........................................\n",
      "[CV] .... alpha=10, l1_ratio=0.5, score=-1076718288.173, total=   0.0s\n",
      "[CV] alpha=10, l1_ratio=0.5 ..........................................\n",
      "[CV] .... alpha=10, l1_ratio=0.5, score=-2905707612.182, total=   0.0s\n",
      "[CV] alpha=10, l1_ratio=0.5 ..........................................\n",
      "[CV] .... alpha=10, l1_ratio=0.5, score=-1013525217.733, total=   0.0s\n",
      "[CV] alpha=10, l1_ratio=0.5 ..........................................\n",
      "[CV] .... alpha=10, l1_ratio=0.5, score=-1095070387.259, total=   0.0s\n",
      "[CV] alpha=10, l1_ratio=0.5 ..........................................\n",
      "[CV] .... alpha=10, l1_ratio=0.5, score=-1435784702.904, total=   0.0s\n",
      "[CV] alpha=10, l1_ratio=0.5 ..........................................\n",
      "[CV] ..... alpha=10, l1_ratio=0.5, score=-661157119.194, total=   0.0s\n",
      "[CV] alpha=10, l1_ratio=0.5 ..........................................\n",
      "[CV] .... alpha=10, l1_ratio=0.5, score=-1777376175.700, total=   0.0s\n",
      "[CV] alpha=10, l1_ratio=0.5 ..........................................\n",
      "[CV] .... alpha=10, l1_ratio=0.5, score=-1313729877.102, total=   0.0s\n",
      "[CV] alpha=10, l1_ratio=0.7 ..........................................\n",
      "[CV] .... alpha=10, l1_ratio=0.7, score=-1356005937.036, total=   0.0s\n",
      "[CV] alpha=10, l1_ratio=0.7 ..........................................\n",
      "[CV] .... alpha=10, l1_ratio=0.7, score=-1263010705.155, total=   0.0s\n",
      "[CV] alpha=10, l1_ratio=0.7 ..........................................\n",
      "[CV] ..... alpha=10, l1_ratio=0.7, score=-826589941.479, total=   0.0s\n",
      "[CV] alpha=10, l1_ratio=0.7 ..........................................\n",
      "[CV] .... alpha=10, l1_ratio=0.7, score=-2307588750.687, total=   0.0s\n",
      "[CV] alpha=10, l1_ratio=0.7 ..........................................\n",
      "[CV] ..... alpha=10, l1_ratio=0.7, score=-736602793.741, total=   0.0s\n",
      "[CV] alpha=10, l1_ratio=0.7 ..........................................\n",
      "[CV] ..... alpha=10, l1_ratio=0.7, score=-828640163.146, total=   0.0s\n",
      "[CV] alpha=10, l1_ratio=0.7 ..........................................\n",
      "[CV] .... alpha=10, l1_ratio=0.7, score=-1103307967.380, total=   0.0s\n",
      "[CV] alpha=10, l1_ratio=0.7 ..........................................\n",
      "[CV] ..... alpha=10, l1_ratio=0.7, score=-518271618.062, total=   0.0s\n",
      "[CV] alpha=10, l1_ratio=0.7 ..........................................\n",
      "[CV] .... alpha=10, l1_ratio=0.7, score=-1386135175.943, total=   0.0s\n",
      "[CV] alpha=10, l1_ratio=0.7 ..........................................\n",
      "[CV] ..... alpha=10, l1_ratio=0.7, score=-995652957.909, total=   0.1s\n",
      "[CV] alpha=10, l1_ratio=0.85 .........................................\n",
      "[CV] ... alpha=10, l1_ratio=0.85, score=-1062049517.889, total=   0.0s\n",
      "[CV] alpha=10, l1_ratio=0.85 .........................................\n",
      "[CV] .... alpha=10, l1_ratio=0.85, score=-979353492.719, total=   0.0s\n",
      "[CV] alpha=10, l1_ratio=0.85 .........................................\n",
      "[CV] .... alpha=10, l1_ratio=0.85, score=-620520752.827, total=   0.0s\n",
      "[CV] alpha=10, l1_ratio=0.85 .........................................\n",
      "[CV] ... alpha=10, l1_ratio=0.85, score=-1723903139.421, total=   0.0s\n",
      "[CV] alpha=10, l1_ratio=0.85 .........................................\n",
      "[CV] .... alpha=10, l1_ratio=0.85, score=-509018003.835, total=   0.0s\n",
      "[CV] alpha=10, l1_ratio=0.85 .........................................\n",
      "[CV] .... alpha=10, l1_ratio=0.85, score=-615832776.681, total=   0.0s\n",
      "[CV] alpha=10, l1_ratio=0.85 .........................................\n",
      "[CV] .... alpha=10, l1_ratio=0.85, score=-812166260.432, total=   0.0s\n",
      "[CV] alpha=10, l1_ratio=0.85 .........................................\n",
      "[CV] .... alpha=10, l1_ratio=0.85, score=-414312066.035, total=   0.0s\n",
      "[CV] alpha=10, l1_ratio=0.85 .........................................\n",
      "[CV] ... alpha=10, l1_ratio=0.85, score=-1040139081.778, total=   0.0s\n",
      "[CV] alpha=10, l1_ratio=0.85 .........................................\n",
      "[CV] .... alpha=10, l1_ratio=0.85, score=-727309865.305, total=   0.0s\n",
      "[CV] alpha=10, l1_ratio=0.9 ..........................................\n",
      "[CV] ..... alpha=10, l1_ratio=0.9, score=-944901824.544, total=   0.0s\n",
      "[CV] alpha=10, l1_ratio=0.9 ..........................................\n",
      "[CV] ..... alpha=10, l1_ratio=0.9, score=-877862738.978, total=   0.1s\n",
      "[CV] alpha=10, l1_ratio=0.9 ..........................................\n",
      "[CV] ..... alpha=10, l1_ratio=0.9, score=-547150806.044, total=   0.1s\n",
      "[CV] alpha=10, l1_ratio=0.9 ..........................................\n",
      "[CV] .... alpha=10, l1_ratio=0.9, score=-1477138522.236, total=   0.0s\n",
      "[CV] alpha=10, l1_ratio=0.9 ..........................................\n",
      "[CV] ..... alpha=10, l1_ratio=0.9, score=-430956121.387, total=   0.1s\n",
      "[CV] alpha=10, l1_ratio=0.9 ..........................................\n",
      "[CV] ..... alpha=10, l1_ratio=0.9, score=-543399272.531, total=   0.1s\n",
      "[CV] alpha=10, l1_ratio=0.9 ..........................................\n",
      "[CV] ..... alpha=10, l1_ratio=0.9, score=-702647768.104, total=   0.1s\n",
      "[CV] alpha=10, l1_ratio=0.9 ..........................................\n",
      "[CV] ..... alpha=10, l1_ratio=0.9, score=-380937815.475, total=   0.0s\n",
      "[CV] alpha=10, l1_ratio=0.9 ..........................................\n",
      "[CV] ..... alpha=10, l1_ratio=0.9, score=-905980647.558, total=   0.0s\n",
      "[CV] alpha=10, l1_ratio=0.9 ..........................................\n",
      "[CV] ..... alpha=10, l1_ratio=0.9, score=-628881261.061, total=   0.0s\n",
      "[CV] alpha=10, l1_ratio=0.95 .........................................\n",
      "[CV] .... alpha=10, l1_ratio=0.95, score=-805953356.631, total=   0.1s\n",
      "[CV] alpha=10, l1_ratio=0.95 .........................................\n",
      "[CV] .... alpha=10, l1_ratio=0.95, score=-773492907.037, total=   0.1s\n",
      "[CV] alpha=10, l1_ratio=0.95 .........................................\n",
      "[CV] .... alpha=10, l1_ratio=0.95, score=-472517217.282, total=   0.1s\n",
      "[CV] alpha=10, l1_ratio=0.95 .........................................\n",
      "[CV] ... alpha=10, l1_ratio=0.95, score=-1175983909.234, total=   0.1s\n",
      "[CV] alpha=10, l1_ratio=0.95 .........................................\n",
      "[CV] .... alpha=10, l1_ratio=0.95, score=-359561432.557, total=   0.1s\n",
      "[CV] alpha=10, l1_ratio=0.95 .........................................\n",
      "[CV] .... alpha=10, l1_ratio=0.95, score=-470694941.689, total=   0.1s\n",
      "[CV] alpha=10, l1_ratio=0.95 .........................................\n",
      "[CV] .... alpha=10, l1_ratio=0.95, score=-582707810.226, total=   0.1s\n",
      "[CV] alpha=10, l1_ratio=0.95 .........................................\n",
      "[CV] .... alpha=10, l1_ratio=0.95, score=-351096067.967, total=   0.1s\n",
      "[CV] alpha=10, l1_ratio=0.95 .........................................\n",
      "[CV] .... alpha=10, l1_ratio=0.95, score=-755581958.400, total=   0.1s\n",
      "[CV] alpha=10, l1_ratio=0.95 .........................................\n",
      "[CV] .... alpha=10, l1_ratio=0.95, score=-524916228.223, total=   0.1s\n",
      "[CV] alpha=10, l1_ratio=1 ............................................\n",
      "[CV] ....... alpha=10, l1_ratio=1, score=-580210306.459, total=   0.5s\n",
      "[CV] alpha=10, l1_ratio=1 ............................................\n"
     ]
    },
    {
     "name": "stderr",
     "output_type": "stream",
     "text": [
      "C:\\Users\\97150\\Anaconda3\\envs\\new_env\\lib\\site-packages\\sklearn\\linear_model\\_coordinate_descent.py:531: ConvergenceWarning: Objective did not converge. You might want to increase the number of iterations. Duality gap: 8327218998.295044, tolerance: 1533543348.4009626\n",
      "  positive)\n"
     ]
    },
    {
     "name": "stdout",
     "output_type": "stream",
     "text": [
      "[CV] ....... alpha=10, l1_ratio=1, score=-685121568.701, total=   0.5s\n",
      "[CV] alpha=10, l1_ratio=1 ............................................\n"
     ]
    },
    {
     "name": "stderr",
     "output_type": "stream",
     "text": [
      "C:\\Users\\97150\\Anaconda3\\envs\\new_env\\lib\\site-packages\\sklearn\\linear_model\\_coordinate_descent.py:531: ConvergenceWarning: Objective did not converge. You might want to increase the number of iterations. Duality gap: 40232522525.31213, tolerance: 1569498936.193926\n",
      "  positive)\n"
     ]
    },
    {
     "name": "stdout",
     "output_type": "stream",
     "text": [
      "[CV] ....... alpha=10, l1_ratio=1, score=-444337787.636, total=   0.5s\n",
      "[CV] alpha=10, l1_ratio=1 ............................................\n"
     ]
    },
    {
     "name": "stderr",
     "output_type": "stream",
     "text": [
      "C:\\Users\\97150\\Anaconda3\\envs\\new_env\\lib\\site-packages\\sklearn\\linear_model\\_coordinate_descent.py:531: ConvergenceWarning: Objective did not converge. You might want to increase the number of iterations. Duality gap: 16884598679.79309, tolerance: 1454832032.4183369\n",
      "  positive)\n"
     ]
    },
    {
     "name": "stdout",
     "output_type": "stream",
     "text": [
      "[CV] ....... alpha=10, l1_ratio=1, score=-737169062.898, total=   0.5s\n",
      "[CV] alpha=10, l1_ratio=1 ............................................\n"
     ]
    },
    {
     "name": "stderr",
     "output_type": "stream",
     "text": [
      "C:\\Users\\97150\\Anaconda3\\envs\\new_env\\lib\\site-packages\\sklearn\\linear_model\\_coordinate_descent.py:531: ConvergenceWarning: Objective did not converge. You might want to increase the number of iterations. Duality gap: 39855871754.298706, tolerance: 1567300499.9324098\n",
      "  positive)\n"
     ]
    },
    {
     "name": "stdout",
     "output_type": "stream",
     "text": [
      "[CV] ....... alpha=10, l1_ratio=1, score=-374691631.342, total=   0.4s\n",
      "[CV] alpha=10, l1_ratio=1 ............................................\n"
     ]
    },
    {
     "name": "stderr",
     "output_type": "stream",
     "text": [
      "C:\\Users\\97150\\Anaconda3\\envs\\new_env\\lib\\site-packages\\sklearn\\linear_model\\_coordinate_descent.py:531: ConvergenceWarning: Objective did not converge. You might want to increase the number of iterations. Duality gap: 35265015772.73926, tolerance: 1563613929.1629386\n",
      "  positive)\n"
     ]
    },
    {
     "name": "stdout",
     "output_type": "stream",
     "text": [
      "[CV] ....... alpha=10, l1_ratio=1, score=-374982977.152, total=   0.5s\n",
      "[CV] alpha=10, l1_ratio=1 ............................................\n"
     ]
    },
    {
     "name": "stderr",
     "output_type": "stream",
     "text": [
      "C:\\Users\\97150\\Anaconda3\\envs\\new_env\\lib\\site-packages\\sklearn\\linear_model\\_coordinate_descent.py:531: ConvergenceWarning: Objective did not converge. You might want to increase the number of iterations. Duality gap: 13868694524.124023, tolerance: 1548294253.8260388\n",
      "  positive)\n"
     ]
    },
    {
     "name": "stdout",
     "output_type": "stream",
     "text": [
      "[CV] ....... alpha=10, l1_ratio=1, score=-433216313.090, total=   0.5s\n",
      "[CV] alpha=10, l1_ratio=1 ............................................\n"
     ]
    },
    {
     "name": "stderr",
     "output_type": "stream",
     "text": [
      "C:\\Users\\97150\\Anaconda3\\envs\\new_env\\lib\\site-packages\\sklearn\\linear_model\\_coordinate_descent.py:531: ConvergenceWarning: Objective did not converge. You might want to increase the number of iterations. Duality gap: 14059305123.728516, tolerance: 1605914768.0799258\n",
      "  positive)\n"
     ]
    },
    {
     "name": "stdout",
     "output_type": "stream",
     "text": [
      "[CV] ....... alpha=10, l1_ratio=1, score=-400388000.225, total=   0.5s\n",
      "[CV] alpha=10, l1_ratio=1 ............................................\n"
     ]
    },
    {
     "name": "stderr",
     "output_type": "stream",
     "text": [
      "C:\\Users\\97150\\Anaconda3\\envs\\new_env\\lib\\site-packages\\sklearn\\linear_model\\_coordinate_descent.py:531: ConvergenceWarning: Objective did not converge. You might want to increase the number of iterations. Duality gap: 3305373858.2198486, tolerance: 1515807608.6357646\n",
      "  positive)\n"
     ]
    },
    {
     "name": "stdout",
     "output_type": "stream",
     "text": [
      "[CV] ....... alpha=10, l1_ratio=1, score=-623823648.762, total=   0.4s\n",
      "[CV] alpha=10, l1_ratio=1 ............................................\n"
     ]
    },
    {
     "name": "stderr",
     "output_type": "stream",
     "text": [
      "C:\\Users\\97150\\Anaconda3\\envs\\new_env\\lib\\site-packages\\sklearn\\linear_model\\_coordinate_descent.py:531: ConvergenceWarning: Objective did not converge. You might want to increase the number of iterations. Duality gap: 11643803891.638184, tolerance: 1545968373.693442\n",
      "  positive)\n"
     ]
    },
    {
     "name": "stdout",
     "output_type": "stream",
     "text": [
      "[CV] ....... alpha=10, l1_ratio=1, score=-442062248.522, total=   0.4s\n",
      "[CV] alpha=15, l1_ratio=0.1 ..........................................\n",
      "[CV] .... alpha=15, l1_ratio=0.1, score=-2708945739.877, total=   0.0s\n",
      "[CV] alpha=15, l1_ratio=0.1 ..........................................\n",
      "[CV] .... alpha=15, l1_ratio=0.1, score=-2692969308.220, total=   0.0s\n",
      "[CV] alpha=15, l1_ratio=0.1 ..........................................\n",
      "[CV] .... alpha=15, l1_ratio=0.1, score=-1926960923.818, total=   0.0s\n",
      "[CV] alpha=15, l1_ratio=0.1 ..........................................\n",
      "[CV] .... alpha=15, l1_ratio=0.1, score=-4561551254.278, total=   0.0s\n",
      "[CV] alpha=15, l1_ratio=0.1 ..........................................\n",
      "[CV] .... alpha=15, l1_ratio=0.1, score=-1930740745.639, total=   0.0s\n",
      "[CV] alpha=15, l1_ratio=0.1 ..........................................\n",
      "[CV] .... alpha=15, l1_ratio=0.1, score=-2004310120.799, total=   0.0s\n",
      "[CV] alpha=15, l1_ratio=0.1 ..........................................\n",
      "[CV] .... alpha=15, l1_ratio=0.1, score=-2467170798.355, total=   0.0s\n",
      "[CV] alpha=15, l1_ratio=0.1 ..........................................\n",
      "[CV] .... alpha=15, l1_ratio=0.1, score=-1232328722.676, total=   0.0s\n",
      "[CV] alpha=15, l1_ratio=0.1 ..........................................\n",
      "[CV] .... alpha=15, l1_ratio=0.1, score=-3002894312.368, total=   0.0s\n",
      "[CV] alpha=15, l1_ratio=0.1 ..........................................\n",
      "[CV] .... alpha=15, l1_ratio=0.1, score=-2355255427.283, total=   0.0s\n",
      "[CV] alpha=15, l1_ratio=0.5 ..........................................\n",
      "[CV] .... alpha=15, l1_ratio=0.5, score=-2033966628.574, total=   0.0s\n",
      "[CV] alpha=15, l1_ratio=0.5 ..........................................\n",
      "[CV] .... alpha=15, l1_ratio=0.5, score=-1973785593.862, total=   0.0s\n",
      "[CV] alpha=15, l1_ratio=0.5 ..........................................\n",
      "[CV] .... alpha=15, l1_ratio=0.5, score=-1359683915.889, total=   0.0s\n",
      "[CV] alpha=15, l1_ratio=0.5 ..........................................\n",
      "[CV] .... alpha=15, l1_ratio=0.5, score=-3503187858.476, total=   0.0s\n",
      "[CV] alpha=15, l1_ratio=0.5 ..........................................\n",
      "[CV] .... alpha=15, l1_ratio=0.5, score=-1322830526.196, total=   0.0s\n",
      "[CV] alpha=15, l1_ratio=0.5 ..........................................\n",
      "[CV] .... alpha=15, l1_ratio=0.5, score=-1398555903.834, total=   0.0s\n",
      "[CV] alpha=15, l1_ratio=0.5 ..........................................\n",
      "[CV] .... alpha=15, l1_ratio=0.5, score=-1792340033.928, total=   0.0s\n",
      "[CV] alpha=15, l1_ratio=0.5 ..........................................\n",
      "[CV] ..... alpha=15, l1_ratio=0.5, score=-839343072.788, total=   0.0s\n",
      "[CV] alpha=15, l1_ratio=0.5 ..........................................\n",
      "[CV] .... alpha=15, l1_ratio=0.5, score=-2198956763.198, total=   0.0s\n",
      "[CV] alpha=15, l1_ratio=0.5 ..........................................\n",
      "[CV] .... alpha=15, l1_ratio=0.5, score=-1666434260.995, total=   0.0s\n",
      "[CV] alpha=15, l1_ratio=0.7 ..........................................\n",
      "[CV] .... alpha=15, l1_ratio=0.7, score=-1606227355.390, total=   0.0s\n",
      "[CV] alpha=15, l1_ratio=0.7 ..........................................\n",
      "[CV] .... alpha=15, l1_ratio=0.7, score=-1520880330.624, total=   0.0s\n",
      "[CV] alpha=15, l1_ratio=0.7 ..........................................\n",
      "[CV] .... alpha=15, l1_ratio=0.7, score=-1016799532.261, total=   0.0s\n",
      "[CV] alpha=15, l1_ratio=0.7 ..........................................\n",
      "[CV] .... alpha=15, l1_ratio=0.7, score=-2769708351.887, total=   0.0s\n",
      "[CV] alpha=15, l1_ratio=0.7 ..........................................\n",
      "[CV] ..... alpha=15, l1_ratio=0.7, score=-947342214.921, total=   0.0s\n",
      "[CV] alpha=15, l1_ratio=0.7 ..........................................\n",
      "[CV] .... alpha=15, l1_ratio=0.7, score=-1030878951.334, total=   0.0s\n",
      "[CV] alpha=15, l1_ratio=0.7 ..........................................\n",
      "[CV] .... alpha=15, l1_ratio=0.7, score=-1357768113.583, total=   0.0s\n",
      "[CV] alpha=15, l1_ratio=0.7 ..........................................\n",
      "[CV] ..... alpha=15, l1_ratio=0.7, score=-625434278.410, total=   0.0s\n",
      "[CV] alpha=15, l1_ratio=0.7 ..........................................\n",
      "[CV] .... alpha=15, l1_ratio=0.7, score=-1685407163.655, total=   0.0s\n",
      "[CV] alpha=15, l1_ratio=0.7 ..........................................\n",
      "[CV] .... alpha=15, l1_ratio=0.7, score=-1237933035.245, total=   0.0s\n",
      "[CV] alpha=15, l1_ratio=0.85 .........................................\n",
      "[CV] ... alpha=15, l1_ratio=0.85, score=-1216988974.210, total=   0.0s\n",
      "[CV] alpha=15, l1_ratio=0.85 .........................................\n",
      "[CV] ... alpha=15, l1_ratio=0.85, score=-1125289709.355, total=   0.0s\n",
      "[CV] alpha=15, l1_ratio=0.85 .........................................\n",
      "[CV] .... alpha=15, l1_ratio=0.85, score=-726342490.834, total=   0.0s\n",
      "[CV] alpha=15, l1_ratio=0.85 .........................................\n",
      "[CV] ... alpha=15, l1_ratio=0.85, score=-2038027943.730, total=   0.0s\n",
      "[CV] alpha=15, l1_ratio=0.85 .........................................\n",
      "[CV] .... alpha=15, l1_ratio=0.85, score=-625146906.680, total=   0.0s\n",
      "[CV] alpha=15, l1_ratio=0.85 .........................................\n",
      "[CV] .... alpha=15, l1_ratio=0.85, score=-723788978.825, total=   0.0s\n",
      "[CV] alpha=15, l1_ratio=0.85 .........................................\n",
      "[CV] .... alpha=15, l1_ratio=0.85, score=-964049827.283, total=   0.0s\n",
      "[CV] alpha=15, l1_ratio=0.85 .........................................\n",
      "[CV] .... alpha=15, l1_ratio=0.85, score=-465820539.679, total=   0.0s\n",
      "[CV] alpha=15, l1_ratio=0.85 .........................................\n",
      "[CV] ... alpha=15, l1_ratio=0.85, score=-1221436714.710, total=   0.0s\n",
      "[CV] alpha=15, l1_ratio=0.85 .........................................\n",
      "[CV] .... alpha=15, l1_ratio=0.85, score=-865875972.038, total=   0.0s\n",
      "[CV] alpha=15, l1_ratio=0.9 ..........................................\n",
      "[CV] .... alpha=15, l1_ratio=0.9, score=-1062286686.653, total=   0.0s\n",
      "[CV] alpha=15, l1_ratio=0.9 ..........................................\n",
      "[CV] ..... alpha=15, l1_ratio=0.9, score=-979705409.389, total=   0.0s\n",
      "[CV] alpha=15, l1_ratio=0.9 ..........................................\n",
      "[CV] ..... alpha=15, l1_ratio=0.9, score=-620808082.082, total=   0.0s\n",
      "[CV] alpha=15, l1_ratio=0.9 ..........................................\n",
      "[CV] .... alpha=15, l1_ratio=0.9, score=-1724735633.280, total=   0.0s\n",
      "[CV] alpha=15, l1_ratio=0.9 ..........................................\n",
      "[CV] ..... alpha=15, l1_ratio=0.9, score=-509280738.745, total=   0.0s\n",
      "[CV] alpha=15, l1_ratio=0.9 ..........................................\n",
      "[CV] ..... alpha=15, l1_ratio=0.9, score=-616113900.183, total=   0.0s\n",
      "[CV] alpha=15, l1_ratio=0.9 ..........................................\n",
      "[CV] ..... alpha=15, l1_ratio=0.9, score=-812604563.209, total=   0.0s\n",
      "[CV] alpha=15, l1_ratio=0.9 ..........................................\n",
      "[CV] ..... alpha=15, l1_ratio=0.9, score=-414286100.317, total=   0.0s\n",
      "[CV] alpha=15, l1_ratio=0.9 ..........................................\n",
      "[CV] .... alpha=15, l1_ratio=0.9, score=-1040447120.361, total=   0.0s\n",
      "[CV] alpha=15, l1_ratio=0.9 ..........................................\n",
      "[CV] ..... alpha=15, l1_ratio=0.9, score=-727546791.470, total=   0.0s\n",
      "[CV] alpha=15, l1_ratio=0.95 .........................................\n",
      "[CV] .... alpha=15, l1_ratio=0.95, score=-879563368.272, total=   0.0s\n",
      "[CV] alpha=15, l1_ratio=0.95 .........................................\n",
      "[CV] .... alpha=15, l1_ratio=0.95, score=-826062955.789, total=   0.0s\n",
      "[CV] alpha=15, l1_ratio=0.95 .........................................\n",
      "[CV] .... alpha=15, l1_ratio=0.95, score=-509956174.327, total=   0.0s\n",
      "[CV] alpha=15, l1_ratio=0.95 .........................................\n",
      "[CV] ... alpha=15, l1_ratio=0.95, score=-1336612684.073, total=   0.0s\n",
      "[CV] alpha=15, l1_ratio=0.95 .........................................\n",
      "[CV] .... alpha=15, l1_ratio=0.95, score=-393514208.314, total=   0.0s\n",
      "[CV] alpha=15, l1_ratio=0.95 .........................................\n",
      "[CV] .... alpha=15, l1_ratio=0.95, score=-507493099.885, total=   0.1s\n",
      "[CV] alpha=15, l1_ratio=0.95 .........................................\n",
      "[CV] .... alpha=15, l1_ratio=0.95, score=-644829372.575, total=   0.0s\n",
      "[CV] alpha=15, l1_ratio=0.95 .........................................\n",
      "[CV] .... alpha=15, l1_ratio=0.95, score=-364989287.105, total=   0.0s\n",
      "[CV] alpha=15, l1_ratio=0.95 .........................................\n",
      "[CV] .... alpha=15, l1_ratio=0.95, score=-833511181.433, total=   0.0s\n",
      "[CV] alpha=15, l1_ratio=0.95 .........................................\n",
      "[CV] .... alpha=15, l1_ratio=0.95, score=-577774250.821, total=   0.0s\n",
      "[CV] alpha=15, l1_ratio=1 ............................................\n",
      "[CV] ....... alpha=15, l1_ratio=1, score=-578568846.764, total=   0.5s\n",
      "[CV] alpha=15, l1_ratio=1 ............................................\n",
      "[CV] ....... alpha=15, l1_ratio=1, score=-683694100.274, total=   0.5s\n",
      "[CV] alpha=15, l1_ratio=1 ............................................\n",
      "[CV] ....... alpha=15, l1_ratio=1, score=-443134571.090, total=   0.5s\n",
      "[CV] alpha=15, l1_ratio=1 ............................................\n",
      "[CV] ....... alpha=15, l1_ratio=1, score=-732409465.031, total=   0.5s\n",
      "[CV] alpha=15, l1_ratio=1 ............................................\n",
      "[CV] ....... alpha=15, l1_ratio=1, score=-373867943.511, total=   0.4s\n",
      "[CV] alpha=15, l1_ratio=1 ............................................\n",
      "[CV] ....... alpha=15, l1_ratio=1, score=-376908617.893, total=   0.4s\n",
      "[CV] alpha=15, l1_ratio=1 ............................................\n",
      "[CV] ....... alpha=15, l1_ratio=1, score=-430678888.231, total=   0.4s\n",
      "[CV] alpha=15, l1_ratio=1 ............................................\n",
      "[CV] ....... alpha=15, l1_ratio=1, score=-398036275.889, total=   0.5s\n",
      "[CV] alpha=15, l1_ratio=1 ............................................\n",
      "[CV] ....... alpha=15, l1_ratio=1, score=-629837536.016, total=   0.5s\n",
      "[CV] alpha=15, l1_ratio=1 ............................................\n",
      "[CV] ....... alpha=15, l1_ratio=1, score=-442562014.309, total=   0.5s\n",
      "[CV] alpha=25, l1_ratio=0.1 ..........................................\n",
      "[CV] .... alpha=25, l1_ratio=0.1, score=-3436138551.317, total=   0.0s\n",
      "[CV] alpha=25, l1_ratio=0.1 ..........................................\n",
      "[CV] .... alpha=25, l1_ratio=0.1, score=-3461029605.312, total=   0.0s\n",
      "[CV] alpha=25, l1_ratio=0.1 ..........................................\n",
      "[CV] .... alpha=25, l1_ratio=0.1, score=-2557747161.490, total=   0.0s\n",
      "[CV] alpha=25, l1_ratio=0.1 ..........................................\n",
      "[CV] .... alpha=25, l1_ratio=0.1, score=-5614375442.950, total=   0.0s\n",
      "[CV] alpha=25, l1_ratio=0.1 ..........................................\n",
      "[CV] .... alpha=25, l1_ratio=0.1, score=-2592171327.576, total=   0.0s\n",
      "[CV] alpha=25, l1_ratio=0.1 ..........................................\n",
      "[CV] .... alpha=25, l1_ratio=0.1, score=-2671050580.982, total=   0.0s\n",
      "[CV] alpha=25, l1_ratio=0.1 ..........................................\n",
      "[CV] .... alpha=25, l1_ratio=0.1, score=-3179952667.726, total=   0.0s\n",
      "[CV] alpha=25, l1_ratio=0.1 ..........................................\n",
      "[CV] .... alpha=25, l1_ratio=0.1, score=-1704890038.115, total=   0.0s\n",
      "[CV] alpha=25, l1_ratio=0.1 ..........................................\n",
      "[CV] .... alpha=25, l1_ratio=0.1, score=-3854276245.943, total=   0.0s\n",
      "[CV] alpha=25, l1_ratio=0.1 ..........................................\n",
      "[CV] .... alpha=25, l1_ratio=0.1, score=-3098255338.170, total=   0.0s\n",
      "[CV] alpha=25, l1_ratio=0.5 ..........................................\n",
      "[CV] .... alpha=25, l1_ratio=0.5, score=-2610407977.124, total=   0.0s\n",
      "[CV] alpha=25, l1_ratio=0.5 ..........................................\n",
      "[CV] .... alpha=25, l1_ratio=0.5, score=-2588264025.831, total=   0.0s\n",
      "[CV] alpha=25, l1_ratio=0.5 ..........................................\n",
      "[CV] .... alpha=25, l1_ratio=0.5, score=-1842911182.060, total=   0.0s\n",
      "[CV] alpha=25, l1_ratio=0.5 ..........................................\n",
      "[CV] .... alpha=25, l1_ratio=0.5, score=-4412904391.998, total=   0.0s\n",
      "[CV] alpha=25, l1_ratio=0.5 ..........................................\n",
      "[CV] .... alpha=25, l1_ratio=0.5, score=-1841440432.381, total=   0.0s\n",
      "[CV] alpha=25, l1_ratio=0.5 ..........................................\n",
      "[CV] .... alpha=25, l1_ratio=0.5, score=-1914872093.542, total=   0.0s\n",
      "[CV] alpha=25, l1_ratio=0.5 ..........................................\n",
      "[CV] .... alpha=25, l1_ratio=0.5, score=-2369574321.333, total=   0.0s\n",
      "[CV] alpha=25, l1_ratio=0.5 ..........................................\n",
      "[CV] .... alpha=25, l1_ratio=0.5, score=-1171710187.906, total=   0.0s\n",
      "[CV] alpha=25, l1_ratio=0.5 ..........................................\n",
      "[CV] .... alpha=25, l1_ratio=0.5, score=-2886336760.572, total=   0.0s\n",
      "[CV] alpha=25, l1_ratio=0.5 ..........................................\n",
      "[CV] .... alpha=25, l1_ratio=0.5, score=-2254446035.784, total=   0.0s\n",
      "[CV] alpha=25, l1_ratio=0.7 ..........................................\n",
      "[CV] .... alpha=25, l1_ratio=0.7, score=-2034856730.741, total=   0.0s\n",
      "[CV] alpha=25, l1_ratio=0.7 ..........................................\n",
      "[CV] .... alpha=25, l1_ratio=0.7, score=-1974798620.011, total=   0.0s\n",
      "[CV] alpha=25, l1_ratio=0.7 ..........................................\n",
      "[CV] .... alpha=25, l1_ratio=0.7, score=-1360602162.522, total=   0.0s\n",
      "[CV] alpha=25, l1_ratio=0.7 ..........................................\n",
      "[CV] .... alpha=25, l1_ratio=0.7, score=-3504708934.214, total=   0.0s\n",
      "[CV] alpha=25, l1_ratio=0.7 ..........................................\n",
      "[CV] .... alpha=25, l1_ratio=0.7, score=-1323677434.524, total=   0.0s\n",
      "[CV] alpha=25, l1_ratio=0.7 ..........................................\n",
      "[CV] .... alpha=25, l1_ratio=0.7, score=-1399451278.876, total=   0.0s\n",
      "[CV] alpha=25, l1_ratio=0.7 ..........................................\n",
      "[CV] .... alpha=25, l1_ratio=0.7, score=-1793335922.395, total=   0.0s\n",
      "[CV] alpha=25, l1_ratio=0.7 ..........................................\n",
      "[CV] ..... alpha=25, l1_ratio=0.7, score=-839869339.512, total=   0.0s\n",
      "[CV] alpha=25, l1_ratio=0.7 ..........................................\n",
      "[CV] .... alpha=25, l1_ratio=0.7, score=-2200059901.744, total=   0.0s\n",
      "[CV] alpha=25, l1_ratio=0.7 ..........................................\n",
      "[CV] .... alpha=25, l1_ratio=0.7, score=-1667341297.081, total=   0.0s\n",
      "[CV] alpha=25, l1_ratio=0.85 .........................................\n",
      "[CV] ... alpha=25, l1_ratio=0.85, score=-1485936883.938, total=   0.0s\n",
      "[CV] alpha=25, l1_ratio=0.85 .........................................\n",
      "[CV] ... alpha=25, l1_ratio=0.85, score=-1395998374.890, total=   0.0s\n",
      "[CV] alpha=25, l1_ratio=0.85 .........................................\n",
      "[CV] .... alpha=25, l1_ratio=0.85, score=-924395308.434, total=   0.0s\n",
      "[CV] alpha=25, l1_ratio=0.85 .........................................\n",
      "[CV] ... alpha=25, l1_ratio=0.85, score=-2551576548.236, total=   0.0s\n",
      "[CV] alpha=25, l1_ratio=0.85 .........................................\n",
      "[CV] .... alpha=25, l1_ratio=0.85, score=-844962805.288, total=   0.0s\n",
      "[CV] alpha=25, l1_ratio=0.85 .........................................\n",
      "[CV] .... alpha=25, l1_ratio=0.85, score=-932184868.915, total=   0.0s\n",
      "[CV] alpha=25, l1_ratio=0.85 .........................................\n",
      "[CV] ... alpha=25, l1_ratio=0.85, score=-1235530160.727, total=   0.0s\n",
      "[CV] alpha=25, l1_ratio=0.85 .........................................\n",
      "[CV] .... alpha=25, l1_ratio=0.85, score=-571942127.013, total=   0.0s\n",
      "[CV] alpha=25, l1_ratio=0.85 .........................................\n",
      "[CV] ... alpha=25, l1_ratio=0.85, score=-1541306305.718, total=   0.0s\n",
      "[CV] alpha=25, l1_ratio=0.85 .........................................\n",
      "[CV] ... alpha=25, l1_ratio=0.85, score=-1120331495.379, total=   0.0s\n",
      "[CV] alpha=25, l1_ratio=0.9 ..........................................\n",
      "[CV] .... alpha=25, l1_ratio=0.9, score=-1265406507.650, total=   0.0s\n",
      "[CV] alpha=25, l1_ratio=0.9 ..........................................\n",
      "[CV] .... alpha=25, l1_ratio=0.9, score=-1172942208.881, total=   0.0s\n",
      "[CV] alpha=25, l1_ratio=0.9 ..........................................\n",
      "[CV] ..... alpha=25, l1_ratio=0.9, score=-761019329.671, total=   0.0s\n",
      "[CV] alpha=25, l1_ratio=0.9 ..........................................\n",
      "[CV] .... alpha=25, l1_ratio=0.9, score=-2133627978.086, total=   0.0s\n",
      "[CV] alpha=25, l1_ratio=0.9 ..........................................\n",
      "[CV] ..... alpha=25, l1_ratio=0.9, score=-663464478.499, total=   0.0s\n",
      "[CV] alpha=25, l1_ratio=0.9 ..........................................\n",
      "[CV] ..... alpha=25, l1_ratio=0.9, score=-759785088.497, total=   0.0s\n",
      "[CV] alpha=25, l1_ratio=0.9 ..........................................\n",
      "[CV] .... alpha=25, l1_ratio=0.9, score=-1012697026.760, total=   0.0s\n",
      "[CV] alpha=25, l1_ratio=0.9 ..........................................\n",
      "[CV] ..... alpha=25, l1_ratio=0.9, score=-483332022.529, total=   0.0s\n",
      "[CV] alpha=25, l1_ratio=0.9 ..........................................\n",
      "[CV] .... alpha=25, l1_ratio=0.9, score=-1278711951.804, total=   0.0s\n",
      "[CV] alpha=25, l1_ratio=0.9 ..........................................\n",
      "[CV] ..... alpha=25, l1_ratio=0.9, score=-910627195.740, total=   0.0s\n",
      "[CV] alpha=25, l1_ratio=0.95 .........................................\n",
      "[CV] ... alpha=25, l1_ratio=0.95, score=-1005934665.643, total=   0.0s\n",
      "[CV] alpha=25, l1_ratio=0.95 .........................................\n",
      "[CV] .... alpha=25, l1_ratio=0.95, score=-930062553.778, total=   0.0s\n",
      "[CV] alpha=25, l1_ratio=0.95 .........................................\n",
      "[CV] .... alpha=25, l1_ratio=0.95, score=-584966247.011, total=   0.0s\n",
      "[CV] alpha=25, l1_ratio=0.95 .........................................\n",
      "[CV] ... alpha=25, l1_ratio=0.95, score=-1607784657.621, total=   0.0s\n",
      "[CV] alpha=25, l1_ratio=0.95 .........................................\n",
      "[CV] .... alpha=25, l1_ratio=0.95, score=-470504317.013, total=   0.1s\n",
      "[CV] alpha=25, l1_ratio=0.95 .........................................\n",
      "[CV] .... alpha=25, l1_ratio=0.95, score=-580351689.799, total=   0.0s\n",
      "[CV] alpha=25, l1_ratio=0.95 .........................................\n",
      "[CV] .... alpha=25, l1_ratio=0.95, score=-759690905.058, total=   0.0s\n",
      "[CV] alpha=25, l1_ratio=0.95 .........................................\n",
      "[CV] .... alpha=25, l1_ratio=0.95, score=-397273314.964, total=   0.0s\n",
      "[CV] alpha=25, l1_ratio=0.95 .........................................\n",
      "[CV] .... alpha=25, l1_ratio=0.95, score=-975567875.632, total=   0.0s\n",
      "[CV] alpha=25, l1_ratio=0.95 .........................................\n",
      "[CV] .... alpha=25, l1_ratio=0.95, score=-679415005.432, total=   0.0s\n",
      "[CV] alpha=25, l1_ratio=1 ............................................\n"
     ]
    },
    {
     "name": "stderr",
     "output_type": "stream",
     "text": [
      "C:\\Users\\97150\\Anaconda3\\envs\\new_env\\lib\\site-packages\\sklearn\\linear_model\\_coordinate_descent.py:531: ConvergenceWarning: Objective did not converge. You might want to increase the number of iterations. Duality gap: 2182899048.982422, tolerance: 1536859599.6164982\n",
      "  positive)\n"
     ]
    },
    {
     "name": "stdout",
     "output_type": "stream",
     "text": [
      "[CV] ....... alpha=25, l1_ratio=1, score=-576791619.625, total=   0.5s\n",
      "[CV] alpha=25, l1_ratio=1 ............................................\n",
      "[CV] ....... alpha=25, l1_ratio=1, score=-680604647.190, total=   0.5s\n",
      "[CV] alpha=25, l1_ratio=1 ............................................\n"
     ]
    },
    {
     "name": "stderr",
     "output_type": "stream",
     "text": [
      "C:\\Users\\97150\\Anaconda3\\envs\\new_env\\lib\\site-packages\\sklearn\\linear_model\\_coordinate_descent.py:531: ConvergenceWarning: Objective did not converge. You might want to increase the number of iterations. Duality gap: 2385336432.106201, tolerance: 1569498936.193926\n",
      "  positive)\n"
     ]
    },
    {
     "name": "stdout",
     "output_type": "stream",
     "text": [
      "[CV] ....... alpha=25, l1_ratio=1, score=-440652885.816, total=   0.6s\n",
      "[CV] alpha=25, l1_ratio=1 ............................................\n"
     ]
    },
    {
     "name": "stderr",
     "output_type": "stream",
     "text": [
      "C:\\Users\\97150\\Anaconda3\\envs\\new_env\\lib\\site-packages\\sklearn\\linear_model\\_coordinate_descent.py:531: ConvergenceWarning: Objective did not converge. You might want to increase the number of iterations. Duality gap: 2782511772.708374, tolerance: 1454832032.4183369\n",
      "  positive)\n"
     ]
    },
    {
     "name": "stdout",
     "output_type": "stream",
     "text": [
      "[CV] ....... alpha=25, l1_ratio=1, score=-724224713.634, total=   0.7s\n",
      "[CV] alpha=25, l1_ratio=1 ............................................\n"
     ]
    },
    {
     "name": "stderr",
     "output_type": "stream",
     "text": [
      "C:\\Users\\97150\\Anaconda3\\envs\\new_env\\lib\\site-packages\\sklearn\\linear_model\\_coordinate_descent.py:531: ConvergenceWarning: Objective did not converge. You might want to increase the number of iterations. Duality gap: 2738342599.314087, tolerance: 1567300499.9324098\n",
      "  positive)\n"
     ]
    },
    {
     "name": "stdout",
     "output_type": "stream",
     "text": [
      "[CV] ....... alpha=25, l1_ratio=1, score=-371876627.633, total=   0.8s\n",
      "[CV] alpha=25, l1_ratio=1 ............................................\n",
      "[CV] ....... alpha=25, l1_ratio=1, score=-380748564.865, total=   0.7s\n",
      "[CV] alpha=25, l1_ratio=1 ............................................\n"
     ]
    },
    {
     "name": "stderr",
     "output_type": "stream",
     "text": [
      "C:\\Users\\97150\\Anaconda3\\envs\\new_env\\lib\\site-packages\\sklearn\\linear_model\\_coordinate_descent.py:531: ConvergenceWarning: Objective did not converge. You might want to increase the number of iterations. Duality gap: 2616753114.4538574, tolerance: 1548294253.8260388\n",
      "  positive)\n"
     ]
    },
    {
     "name": "stdout",
     "output_type": "stream",
     "text": [
      "[CV] ....... alpha=25, l1_ratio=1, score=-426919637.798, total=   0.6s\n",
      "[CV] alpha=25, l1_ratio=1 ............................................\n",
      "[CV] ....... alpha=25, l1_ratio=1, score=-394629120.529, total=   0.5s\n",
      "[CV] alpha=25, l1_ratio=1 ............................................\n"
     ]
    },
    {
     "name": "stderr",
     "output_type": "stream",
     "text": [
      "C:\\Users\\97150\\Anaconda3\\envs\\new_env\\lib\\site-packages\\sklearn\\linear_model\\_coordinate_descent.py:531: ConvergenceWarning: Objective did not converge. You might want to increase the number of iterations. Duality gap: 2063211064.947754, tolerance: 1515807608.6357646\n",
      "  positive)\n"
     ]
    },
    {
     "name": "stdout",
     "output_type": "stream",
     "text": [
      "[CV] ....... alpha=25, l1_ratio=1, score=-626775473.080, total=   0.5s\n",
      "[CV] alpha=25, l1_ratio=1 ............................................\n"
     ]
    },
    {
     "name": "stderr",
     "output_type": "stream",
     "text": [
      "C:\\Users\\97150\\Anaconda3\\envs\\new_env\\lib\\site-packages\\sklearn\\linear_model\\_coordinate_descent.py:531: ConvergenceWarning: Objective did not converge. You might want to increase the number of iterations. Duality gap: 2438151274.140869, tolerance: 1545968373.693442\n",
      "  positive)\n"
     ]
    },
    {
     "name": "stdout",
     "output_type": "stream",
     "text": [
      "[CV] ....... alpha=25, l1_ratio=1, score=-440607280.088, total=   0.5s\n",
      "[CV] alpha=50, l1_ratio=0.1 ..........................................\n",
      "[CV] .... alpha=50, l1_ratio=0.1, score=-4483033259.537, total=   0.0s\n",
      "[CV] alpha=50, l1_ratio=0.1 ..........................................\n",
      "[CV] .... alpha=50, l1_ratio=0.1, score=-4552404891.404, total=   0.0s\n",
      "[CV] alpha=50, l1_ratio=0.1 ..........................................\n",
      "[CV] .... alpha=50, l1_ratio=0.1, score=-3485681234.267, total=   0.0s\n",
      "[CV] alpha=50, l1_ratio=0.1 ..........................................\n",
      "[CV] .... alpha=50, l1_ratio=0.1, score=-7032921559.025, total=   0.0s\n",
      "[CV] alpha=50, l1_ratio=0.1 ..........................................\n",
      "[CV] .... alpha=50, l1_ratio=0.1, score=-3547435798.019, total=   0.0s\n",
      "[CV] alpha=50, l1_ratio=0.1 ..........................................\n",
      "[CV] .... alpha=50, l1_ratio=0.1, score=-3641575401.191, total=   0.0s\n",
      "[CV] alpha=50, l1_ratio=0.1 ..........................................\n",
      "[CV] .... alpha=50, l1_ratio=0.1, score=-4189379170.158, total=   0.0s\n",
      "[CV] alpha=50, l1_ratio=0.1 ..........................................\n",
      "[CV] .... alpha=50, l1_ratio=0.1, score=-2440967155.343, total=   0.0s\n",
      "[CV] alpha=50, l1_ratio=0.1 ..........................................\n",
      "[CV] .... alpha=50, l1_ratio=0.1, score=-5055091765.200, total=   0.0s\n",
      "[CV] alpha=50, l1_ratio=0.1 ..........................................\n",
      "[CV] .... alpha=50, l1_ratio=0.1, score=-4160431946.393, total=   0.0s\n",
      "[CV] alpha=50, l1_ratio=0.5 ..........................................\n",
      "[CV] .... alpha=50, l1_ratio=0.5, score=-3597878962.637, total=   0.0s\n",
      "[CV] alpha=50, l1_ratio=0.5 ..........................................\n",
      "[CV] .... alpha=50, l1_ratio=0.5, score=-3630646894.083, total=   0.0s\n",
      "[CV] alpha=50, l1_ratio=0.5 ..........................................\n",
      "[CV] .... alpha=50, l1_ratio=0.5, score=-2699990957.716, total=   0.0s\n",
      "[CV] alpha=50, l1_ratio=0.5 ..........................................\n",
      "[CV] .... alpha=50, l1_ratio=0.5, score=-5839812644.711, total=   0.0s\n",
      "[CV] alpha=50, l1_ratio=0.5 ..........................................\n",
      "[CV] .... alpha=50, l1_ratio=0.5, score=-2739559033.369, total=   0.0s\n",
      "[CV] alpha=50, l1_ratio=0.5 ..........................................\n",
      "[CV] .... alpha=50, l1_ratio=0.5, score=-2820392141.951, total=   0.0s\n",
      "[CV] alpha=50, l1_ratio=0.5 ..........................................\n",
      "[CV] .... alpha=50, l1_ratio=0.5, score=-3336943388.085, total=   0.0s\n",
      "[CV] alpha=50, l1_ratio=0.5 ..........................................\n",
      "[CV] .... alpha=50, l1_ratio=0.5, score=-1814921303.144, total=   0.0s\n",
      "[CV] alpha=50, l1_ratio=0.5 ..........................................\n",
      "[CV] .... alpha=50, l1_ratio=0.5, score=-4041504531.139, total=   0.0s\n",
      "[CV] alpha=50, l1_ratio=0.5 ..........................................\n",
      "[CV] .... alpha=50, l1_ratio=0.5, score=-3262957727.721, total=   0.0s\n",
      "[CV] alpha=50, l1_ratio=0.7 ..........................................\n",
      "[CV] .... alpha=50, l1_ratio=0.7, score=-2853413045.653, total=   0.0s\n",
      "[CV] alpha=50, l1_ratio=0.7 ..........................................\n",
      "[CV] .... alpha=50, l1_ratio=0.7, score=-2846259401.712, total=   0.0s\n",
      "[CV] alpha=50, l1_ratio=0.7 ..........................................\n",
      "[CV] .... alpha=50, l1_ratio=0.7, score=-2051350030.696, total=   0.0s\n",
      "[CV] alpha=50, l1_ratio=0.7 ..........................................\n",
      "[CV] .... alpha=50, l1_ratio=0.7, score=-4776689369.820, total=   0.0s\n",
      "[CV] alpha=50, l1_ratio=0.7 ..........................................\n",
      "[CV] .... alpha=50, l1_ratio=0.7, score=-2061794684.269, total=   0.0s\n",
      "[CV] alpha=50, l1_ratio=0.7 ..........................................\n",
      "[CV] .... alpha=50, l1_ratio=0.7, score=-2136157953.083, total=   0.0s\n",
      "[CV] alpha=50, l1_ratio=0.7 ..........................................\n",
      "[CV] .... alpha=50, l1_ratio=0.7, score=-2609825830.715, total=   0.0s\n",
      "[CV] alpha=50, l1_ratio=0.7 ..........................................\n",
      "[CV] .... alpha=50, l1_ratio=0.7, score=-1322845806.189, total=   0.0s\n",
      "[CV] alpha=50, l1_ratio=0.7 ..........................................\n",
      "[CV] .... alpha=50, l1_ratio=0.7, score=-3173169789.775, total=   0.0s\n",
      "[CV] alpha=50, l1_ratio=0.7 ..........................................\n",
      "[CV] .... alpha=50, l1_ratio=0.7, score=-2503023626.379, total=   0.0s\n",
      "[CV] alpha=50, l1_ratio=0.85 .........................................\n",
      "[CV] ... alpha=50, l1_ratio=0.85, score=-2037058427.634, total=   0.0s\n",
      "[CV] alpha=50, l1_ratio=0.85 .........................................\n",
      "[CV] ... alpha=50, l1_ratio=0.85, score=-1977346778.723, total=   0.0s\n",
      "[CV] alpha=50, l1_ratio=0.85 .........................................\n",
      "[CV] ... alpha=50, l1_ratio=0.85, score=-1362887049.487, total=   0.0s\n",
      "[CV] alpha=50, l1_ratio=0.85 .........................................\n",
      "[CV] ... alpha=50, l1_ratio=0.85, score=-3508622141.987, total=   0.0s\n",
      "[CV] alpha=50, l1_ratio=0.85 .........................................\n",
      "[CV] ... alpha=50, l1_ratio=0.85, score=-1325790850.487, total=   0.0s\n",
      "[CV] alpha=50, l1_ratio=0.85 .........................................\n",
      "[CV] ... alpha=50, l1_ratio=0.85, score=-1401694542.003, total=   0.0s\n",
      "[CV] alpha=50, l1_ratio=0.85 .........................................\n",
      "[CV] ... alpha=50, l1_ratio=0.85, score=-1795801025.731, total=   0.0s\n",
      "[CV] alpha=50, l1_ratio=0.85 .........................................\n",
      "[CV] .... alpha=50, l1_ratio=0.85, score=-841176253.106, total=   0.0s\n",
      "[CV] alpha=50, l1_ratio=0.85 .........................................\n",
      "[CV] ... alpha=50, l1_ratio=0.85, score=-2202796790.933, total=   0.0s\n",
      "[CV] alpha=50, l1_ratio=0.85 .........................................\n",
      "[CV] ... alpha=50, l1_ratio=0.85, score=-1669597927.113, total=   0.0s\n",
      "[CV] alpha=50, l1_ratio=0.9 ..........................................\n",
      "[CV] .... alpha=50, l1_ratio=0.9, score=-1685933466.033, total=   0.0s\n",
      "[CV] alpha=50, l1_ratio=0.9 ..........................................\n",
      "[CV] .... alpha=50, l1_ratio=0.9, score=-1605090217.784, total=   0.0s\n",
      "[CV] alpha=50, l1_ratio=0.9 ..........................................\n",
      "[CV] .... alpha=50, l1_ratio=0.9, score=-1080170581.185, total=   0.0s\n",
      "[CV] alpha=50, l1_ratio=0.9 ..........................................\n",
      "[CV] .... alpha=50, l1_ratio=0.9, score=-2912368745.778, total=   0.0s\n",
      "[CV] alpha=50, l1_ratio=0.9 ..........................................\n",
      "[CV] .... alpha=50, l1_ratio=0.9, score=-1016590309.706, total=   0.0s\n",
      "[CV] alpha=50, l1_ratio=0.9 ..........................................\n",
      "[CV] .... alpha=50, l1_ratio=0.9, score=-1098449446.684, total=   0.0s\n",
      "[CV] alpha=50, l1_ratio=0.9 ..........................................\n",
      "[CV] .... alpha=50, l1_ratio=0.9, score=-1439734115.608, total=   0.0s\n",
      "[CV] alpha=50, l1_ratio=0.9 ..........................................\n",
      "[CV] ..... alpha=50, l1_ratio=0.9, score=-662805151.600, total=   0.0s\n",
      "[CV] alpha=50, l1_ratio=0.9 ..........................................\n",
      "[CV] .... alpha=50, l1_ratio=0.9, score=-1781429264.819, total=   0.0s\n",
      "[CV] alpha=50, l1_ratio=0.9 ..........................................\n",
      "[CV] .... alpha=50, l1_ratio=0.9, score=-1316861462.434, total=   0.0s\n",
      "[CV] alpha=50, l1_ratio=0.95 .........................................\n",
      "[CV] ... alpha=50, l1_ratio=0.95, score=-1266851520.699, total=   0.0s\n",
      "[CV] alpha=50, l1_ratio=0.95 .........................................\n",
      "[CV] ... alpha=50, l1_ratio=0.95, score=-1175041162.518, total=   0.0s\n",
      "[CV] alpha=50, l1_ratio=0.95 .........................................\n",
      "[CV] .... alpha=50, l1_ratio=0.95, score=-762790152.322, total=   0.0s\n",
      "[CV] alpha=50, l1_ratio=0.95 .........................................\n",
      "[CV] ... alpha=50, l1_ratio=0.95, score=-2137730021.431, total=   0.0s\n",
      "[CV] alpha=50, l1_ratio=0.95 .........................................\n",
      "[CV] .... alpha=50, l1_ratio=0.95, score=-665004753.591, total=   0.0s\n",
      "[CV] alpha=50, l1_ratio=0.95 .........................................\n",
      "[CV] .... alpha=50, l1_ratio=0.95, score=-761521334.512, total=   0.0s\n",
      "[CV] alpha=50, l1_ratio=0.95 .........................................\n",
      "[CV] ... alpha=50, l1_ratio=0.95, score=-1015183581.396, total=   0.0s\n",
      "[CV] alpha=50, l1_ratio=0.95 .........................................\n",
      "[CV] .... alpha=50, l1_ratio=0.95, score=-483671995.733, total=   0.0s\n",
      "[CV] alpha=50, l1_ratio=0.95 .........................................\n",
      "[CV] ... alpha=50, l1_ratio=0.95, score=-1280696475.756, total=   0.0s\n",
      "[CV] alpha=50, l1_ratio=0.95 .........................................\n",
      "[CV] .... alpha=50, l1_ratio=0.95, score=-912135981.782, total=   0.0s\n",
      "[CV] alpha=50, l1_ratio=1 ............................................\n",
      "[CV] ....... alpha=50, l1_ratio=1, score=-573328774.630, total=   0.4s\n",
      "[CV] alpha=50, l1_ratio=1 ............................................\n",
      "[CV] ....... alpha=50, l1_ratio=1, score=-677251196.146, total=   0.4s\n",
      "[CV] alpha=50, l1_ratio=1 ............................................\n",
      "[CV] ....... alpha=50, l1_ratio=1, score=-432341003.903, total=   0.4s\n",
      "[CV] alpha=50, l1_ratio=1 ............................................\n",
      "[CV] ....... alpha=50, l1_ratio=1, score=-716957870.488, total=   0.4s\n",
      "[CV] alpha=50, l1_ratio=1 ............................................\n",
      "[CV] ....... alpha=50, l1_ratio=1, score=-364963726.289, total=   0.5s\n",
      "[CV] alpha=50, l1_ratio=1 ............................................\n",
      "[CV] ....... alpha=50, l1_ratio=1, score=-383435237.854, total=   0.5s\n",
      "[CV] alpha=50, l1_ratio=1 ............................................\n",
      "[CV] ....... alpha=50, l1_ratio=1, score=-425710558.356, total=   0.4s\n",
      "[CV] alpha=50, l1_ratio=1 ............................................\n",
      "[CV] ....... alpha=50, l1_ratio=1, score=-382689667.669, total=   0.4s\n",
      "[CV] alpha=50, l1_ratio=1 ............................................\n",
      "[CV] ....... alpha=50, l1_ratio=1, score=-621894401.492, total=   0.4s\n",
      "[CV] alpha=50, l1_ratio=1 ............................................\n",
      "[CV] ....... alpha=50, l1_ratio=1, score=-437884836.877, total=   0.5s\n",
      "[CV] alpha=70, l1_ratio=0.1 ..........................................\n",
      "[CV] .... alpha=70, l1_ratio=0.1, score=-4946944336.340, total=   0.0s\n",
      "[CV] alpha=70, l1_ratio=0.1 ..........................................\n",
      "[CV] .... alpha=70, l1_ratio=0.1, score=-5031627615.515, total=   0.0s\n",
      "[CV] alpha=70, l1_ratio=0.1 ..........................................\n",
      "[CV] .... alpha=70, l1_ratio=0.1, score=-3901902551.879, total=   0.0s\n",
      "[CV] alpha=70, l1_ratio=0.1 ..........................................\n",
      "[CV] .... alpha=70, l1_ratio=0.1, score=-7636590473.786, total=   0.0s\n",
      "[CV] alpha=70, l1_ratio=0.1 ..........................................\n",
      "[CV] .... alpha=70, l1_ratio=0.1, score=-3971223946.622, total=   0.0s\n",
      "[CV] alpha=70, l1_ratio=0.1 ..........................................\n",
      "[CV] .... alpha=70, l1_ratio=0.1, score=-4073961862.586, total=   0.0s\n",
      "[CV] alpha=70, l1_ratio=0.1 ..........................................\n",
      "[CV] .... alpha=70, l1_ratio=0.1, score=-4632704832.019, total=   0.0s\n",
      "[CV] alpha=70, l1_ratio=0.1 ..........................................\n",
      "[CV] .... alpha=70, l1_ratio=0.1, score=-2781880904.412, total=   0.0s\n",
      "[CV] alpha=70, l1_ratio=0.1 ..........................................\n",
      "[CV] .... alpha=70, l1_ratio=0.1, score=-5579492475.000, total=   0.0s\n",
      "[CV] alpha=70, l1_ratio=0.1 ..........................................\n",
      "[CV] .... alpha=70, l1_ratio=0.1, score=-4628049228.425, total=   0.0s\n",
      "[CV] alpha=70, l1_ratio=0.5 ..........................................\n",
      "[CV] .... alpha=70, l1_ratio=0.5, score=-4112237884.204, total=   0.0s\n",
      "[CV] alpha=70, l1_ratio=0.5 ..........................................\n",
      "[CV] .... alpha=70, l1_ratio=0.5, score=-4167523899.312, total=   0.0s\n",
      "[CV] alpha=70, l1_ratio=0.5 ..........................................\n",
      "[CV] .... alpha=70, l1_ratio=0.5, score=-3155143761.738, total=   0.0s\n",
      "[CV] alpha=70, l1_ratio=0.5 ..........................................\n",
      "[CV] .... alpha=70, l1_ratio=0.5, score=-6540526715.327, total=   0.0s\n",
      "[CV] alpha=70, l1_ratio=0.5 ..........................................\n",
      "[CV] .... alpha=70, l1_ratio=0.5, score=-3208809447.148, total=   0.0s\n",
      "[CV] alpha=70, l1_ratio=0.5 ..........................................\n",
      "[CV] .... alpha=70, l1_ratio=0.5, score=-3296822412.307, total=   0.0s\n",
      "[CV] alpha=70, l1_ratio=0.5 ..........................................\n",
      "[CV] .... alpha=70, l1_ratio=0.5, score=-3833498463.291, total=   0.0s\n",
      "[CV] alpha=70, l1_ratio=0.5 ..........................................\n",
      "[CV] .... alpha=70, l1_ratio=0.5, score=-2174303851.286, total=   0.0s\n",
      "[CV] alpha=70, l1_ratio=0.5 ..........................................\n",
      "[CV] .... alpha=70, l1_ratio=0.5, score=-4632682895.696, total=   0.0s\n",
      "[CV] alpha=70, l1_ratio=0.5 ..........................................\n",
      "[CV] .... alpha=70, l1_ratio=0.5, score=-3785296721.195, total=   0.0s\n",
      "[CV] alpha=70, l1_ratio=0.7 ..........................................\n",
      "[CV] .... alpha=70, l1_ratio=0.7, score=-3337218585.627, total=   0.0s\n",
      "[CV] alpha=70, l1_ratio=0.7 ..........................................\n",
      "[CV] .... alpha=70, l1_ratio=0.7, score=-3357029035.675, total=   0.0s\n",
      "[CV] alpha=70, l1_ratio=0.7 ..........................................\n",
      "[CV] .... alpha=70, l1_ratio=0.7, score=-2471456875.303, total=   0.0s\n",
      "[CV] alpha=70, l1_ratio=0.7 ..........................................\n",
      "[CV] .... alpha=70, l1_ratio=0.7, score=-5475114693.941, total=   0.0s\n",
      "[CV] alpha=70, l1_ratio=0.7 ..........................................\n",
      "[CV] .... alpha=70, l1_ratio=0.7, score=-2501901601.381, total=   0.0s\n",
      "[CV] alpha=70, l1_ratio=0.7 ..........................................\n",
      "[CV] .... alpha=70, l1_ratio=0.7, score=-2579990993.151, total=   0.0s\n",
      "[CV] alpha=70, l1_ratio=0.7 ..........................................\n",
      "[CV] .... alpha=70, l1_ratio=0.7, score=-3083655687.898, total=   0.0s\n",
      "[CV] alpha=70, l1_ratio=0.7 ..........................................\n",
      "[CV] .... alpha=70, l1_ratio=0.7, score=-1638306964.606, total=   0.0s\n",
      "[CV] alpha=70, l1_ratio=0.7 ..........................................\n",
      "[CV] .... alpha=70, l1_ratio=0.7, score=-3739187657.100, total=   0.0s\n",
      "[CV] alpha=70, l1_ratio=0.7 ..........................................\n",
      "[CV] .... alpha=70, l1_ratio=0.7, score=-2997274074.028, total=   0.0s\n",
      "[CV] alpha=70, l1_ratio=0.85 .........................................\n",
      "[CV] ... alpha=70, l1_ratio=0.85, score=-2401281764.406, total=   0.0s\n",
      "[CV] alpha=70, l1_ratio=0.85 .........................................\n",
      "[CV] ... alpha=70, l1_ratio=0.85, score=-2365772819.469, total=   0.0s\n",
      "[CV] alpha=70, l1_ratio=0.85 .........................................\n",
      "[CV] ... alpha=70, l1_ratio=0.85, score=-1666240275.535, total=   0.0s\n",
      "[CV] alpha=70, l1_ratio=0.85 .........................................\n",
      "[CV] ... alpha=70, l1_ratio=0.85, score=-4091504195.157, total=   0.0s\n",
      "[CV] alpha=70, l1_ratio=0.85 .........................................\n",
      "[CV] ... alpha=70, l1_ratio=0.85, score=-1652494925.568, total=   0.0s\n",
      "[CV] alpha=70, l1_ratio=0.85 .........................................\n",
      "[CV] ... alpha=70, l1_ratio=0.85, score=-1726265589.612, total=   0.0s\n",
      "[CV] alpha=70, l1_ratio=0.85 .........................................\n",
      "[CV] ... alpha=70, l1_ratio=0.85, score=-2161486781.164, total=   0.0s\n",
      "[CV] alpha=70, l1_ratio=0.85 .........................................\n",
      "[CV] ... alpha=70, l1_ratio=0.85, score=-1046554740.286, total=   0.0s\n",
      "[CV] alpha=70, l1_ratio=0.85 .........................................\n",
      "[CV] ... alpha=70, l1_ratio=0.85, score=-2638013597.037, total=   0.0s\n",
      "[CV] alpha=70, l1_ratio=0.85 .........................................\n",
      "[CV] ... alpha=70, l1_ratio=0.85, score=-2040574660.444, total=   0.0s\n",
      "[CV] alpha=70, l1_ratio=0.9 ..........................................\n",
      "[CV] .... alpha=70, l1_ratio=0.9, score=-1972704201.725, total=   0.0s\n",
      "[CV] alpha=70, l1_ratio=0.9 ..........................................\n",
      "[CV] .... alpha=70, l1_ratio=0.9, score=-1908886583.874, total=   0.0s\n",
      "[CV] alpha=70, l1_ratio=0.9 ..........................................\n",
      "[CV] .... alpha=70, l1_ratio=0.9, score=-1310653214.293, total=   0.0s\n",
      "[CV] alpha=70, l1_ratio=0.9 ..........................................\n",
      "[CV] .... alpha=70, l1_ratio=0.9, score=-3402538186.936, total=   0.0s\n",
      "[CV] alpha=70, l1_ratio=0.9 ..........................................\n",
      "[CV] .... alpha=70, l1_ratio=0.9, score=-1268629179.697, total=   0.0s\n",
      "[CV] alpha=70, l1_ratio=0.9 ..........................................\n",
      "[CV] .... alpha=70, l1_ratio=0.9, score=-1345415232.290, total=   0.0s\n",
      "[CV] alpha=70, l1_ratio=0.9 ..........................................\n",
      "[CV] .... alpha=70, l1_ratio=0.9, score=-1731013964.650, total=   0.0s\n",
      "[CV] alpha=70, l1_ratio=0.9 ..........................................\n",
      "[CV] ..... alpha=70, l1_ratio=0.9, score=-806948606.602, total=   0.0s\n",
      "[CV] alpha=70, l1_ratio=0.9 ..........................................\n",
      "[CV] .... alpha=70, l1_ratio=0.9, score=-2125673144.132, total=   0.0s\n",
      "[CV] alpha=70, l1_ratio=0.9 ..........................................\n",
      "[CV] .... alpha=70, l1_ratio=0.9, score=-1604353077.225, total=   0.0s\n",
      "[CV] alpha=70, l1_ratio=0.95 .........................................\n",
      "[CV] ... alpha=70, l1_ratio=0.95, score=-1447171167.935, total=   0.0s\n",
      "[CV] alpha=70, l1_ratio=0.95 .........................................\n",
      "[CV] ... alpha=70, l1_ratio=0.95, score=-1356785860.308, total=   0.0s\n",
      "[CV] alpha=70, l1_ratio=0.95 .........................................\n",
      "[CV] .... alpha=70, l1_ratio=0.95, score=-896076412.829, total=   0.0s\n",
      "[CV] alpha=70, l1_ratio=0.95 .........................................\n",
      "[CV] ... alpha=70, l1_ratio=0.95, score=-2481356238.806, total=   0.0s\n",
      "[CV] alpha=70, l1_ratio=0.95 .........................................\n",
      "[CV] .... alpha=70, l1_ratio=0.95, score=-812863739.964, total=   0.0s\n",
      "[CV] alpha=70, l1_ratio=0.95 .........................................\n",
      "[CV] .... alpha=70, l1_ratio=0.95, score=-901804286.788, total=   0.0s\n",
      "[CV] alpha=70, l1_ratio=0.95 .........................................\n",
      "[CV] ... alpha=70, l1_ratio=0.95, score=-1197403620.886, total=   0.0s\n",
      "[CV] alpha=70, l1_ratio=0.95 .........................................\n",
      "[CV] .... alpha=70, l1_ratio=0.95, score=-555269446.512, total=   0.0s\n",
      "[CV] alpha=70, l1_ratio=0.95 .........................................\n",
      "[CV] ... alpha=70, l1_ratio=0.95, score=-1494986713.197, total=   0.0s\n",
      "[CV] alpha=70, l1_ratio=0.95 .........................................\n",
      "[CV] ... alpha=70, l1_ratio=0.95, score=-1082773621.807, total=   0.0s\n",
      "[CV] alpha=70, l1_ratio=1 ............................................\n",
      "[CV] ....... alpha=70, l1_ratio=1, score=-572634185.151, total=   0.4s\n",
      "[CV] alpha=70, l1_ratio=1 ............................................\n",
      "[CV] ....... alpha=70, l1_ratio=1, score=-675753492.894, total=   0.3s\n",
      "[CV] alpha=70, l1_ratio=1 ............................................\n",
      "[CV] ....... alpha=70, l1_ratio=1, score=-426739860.163, total=   0.4s\n",
      "[CV] alpha=70, l1_ratio=1 ............................................\n",
      "[CV] ....... alpha=70, l1_ratio=1, score=-719012707.291, total=   0.3s\n",
      "[CV] alpha=70, l1_ratio=1 ............................................\n",
      "[CV] ....... alpha=70, l1_ratio=1, score=-359550971.828, total=   0.3s\n",
      "[CV] alpha=70, l1_ratio=1 ............................................\n",
      "[CV] ....... alpha=70, l1_ratio=1, score=-384726464.098, total=   0.3s\n",
      "[CV] alpha=70, l1_ratio=1 ............................................\n",
      "[CV] ....... alpha=70, l1_ratio=1, score=-427561131.129, total=   0.3s\n",
      "[CV] alpha=70, l1_ratio=1 ............................................\n",
      "[CV] ....... alpha=70, l1_ratio=1, score=-374374676.522, total=   0.3s\n",
      "[CV] alpha=70, l1_ratio=1 ............................................\n",
      "[CV] ....... alpha=70, l1_ratio=1, score=-620113248.442, total=   0.3s\n",
      "[CV] alpha=70, l1_ratio=1 ............................................\n",
      "[CV] ....... alpha=70, l1_ratio=1, score=-435663790.946, total=   0.3s\n",
      "[CV] alpha=100, l1_ratio=0.1 .........................................\n",
      "[CV] ... alpha=100, l1_ratio=0.1, score=-5374507349.905, total=   0.0s\n",
      "[CV] alpha=100, l1_ratio=0.1 .........................................\n",
      "[CV] ... alpha=100, l1_ratio=0.1, score=-5471390443.805, total=   0.0s\n",
      "[CV] alpha=100, l1_ratio=0.1 .........................................\n",
      "[CV] ... alpha=100, l1_ratio=0.1, score=-4287594293.360, total=   0.0s\n",
      "[CV] alpha=100, l1_ratio=0.1 .........................................\n",
      "[CV] ... alpha=100, l1_ratio=0.1, score=-8182784370.627, total=   0.0s\n",
      "[CV] alpha=100, l1_ratio=0.1 .........................................\n",
      "[CV] ... alpha=100, l1_ratio=0.1, score=-4362011025.109, total=   0.0s\n",
      "[CV] alpha=100, l1_ratio=0.1 .........................................\n",
      "[CV] ... alpha=100, l1_ratio=0.1, score=-4473377618.709, total=   0.0s\n",
      "[CV] alpha=100, l1_ratio=0.1 .........................................\n",
      "[CV] ... alpha=100, l1_ratio=0.1, score=-5039841105.312, total=   0.0s\n",
      "[CV] alpha=100, l1_ratio=0.1 .........................................\n",
      "[CV] ... alpha=100, l1_ratio=0.1, score=-3102270322.855, total=   0.0s\n",
      "[CV] alpha=100, l1_ratio=0.1 .........................................\n",
      "[CV] ... alpha=100, l1_ratio=0.1, score=-6059315757.881, total=   0.0s\n",
      "[CV] alpha=100, l1_ratio=0.1 .........................................\n",
      "[CV] ... alpha=100, l1_ratio=0.1, score=-5057535947.786, total=   0.0s\n",
      "[CV] alpha=100, l1_ratio=0.5 .........................................\n",
      "[CV] ... alpha=100, l1_ratio=0.5, score=-4636828084.133, total=   0.0s\n",
      "[CV] alpha=100, l1_ratio=0.5 .........................................\n",
      "[CV] ... alpha=100, l1_ratio=0.5, score=-4711481646.773, total=   0.0s\n",
      "[CV] alpha=100, l1_ratio=0.5 .........................................\n",
      "[CV] ... alpha=100, l1_ratio=0.5, score=-3623524786.686, total=   0.0s\n",
      "[CV] alpha=100, l1_ratio=0.5 .........................................\n",
      "[CV] ... alpha=100, l1_ratio=0.5, score=-7234411809.345, total=   0.0s\n",
      "[CV] alpha=100, l1_ratio=0.5 .........................................\n",
      "[CV] ... alpha=100, l1_ratio=0.5, score=-3687815007.424, total=   0.0s\n",
      "[CV] alpha=100, l1_ratio=0.5 .........................................\n",
      "[CV] ... alpha=100, l1_ratio=0.5, score=-3784756200.041, total=   0.0s\n",
      "[CV] alpha=100, l1_ratio=0.5 .........................................\n",
      "[CV] ... alpha=100, l1_ratio=0.5, score=-4336528396.255, total=   0.0s\n",
      "[CV] alpha=100, l1_ratio=0.5 .........................................\n",
      "[CV] ... alpha=100, l1_ratio=0.5, score=-2553080056.798, total=   0.0s\n",
      "[CV] alpha=100, l1_ratio=0.5 .........................................\n",
      "[CV] ... alpha=100, l1_ratio=0.5, score=-5229291999.119, total=   0.0s\n",
      "[CV] alpha=100, l1_ratio=0.5 .........................................\n",
      "[CV] ... alpha=100, l1_ratio=0.5, score=-4315561204.207, total=   0.0s\n",
      "[CV] alpha=100, l1_ratio=0.7 .........................................\n",
      "[CV] ... alpha=100, l1_ratio=0.7, score=-3880541499.055, total=   0.0s\n",
      "[CV] alpha=100, l1_ratio=0.7 .........................................\n",
      "[CV] ... alpha=100, l1_ratio=0.7, score=-3926102361.143, total=   0.0s\n",
      "[CV] alpha=100, l1_ratio=0.7 .........................................\n",
      "[CV] ... alpha=100, l1_ratio=0.7, score=-2949769911.799, total=   0.0s\n",
      "[CV] alpha=100, l1_ratio=0.7 .........................................\n",
      "[CV] ... alpha=100, l1_ratio=0.7, score=-6227623571.727, total=   0.0s\n",
      "[CV] alpha=100, l1_ratio=0.7 .........................................\n",
      "[CV] ... alpha=100, l1_ratio=0.7, score=-2997269435.095, total=   0.0s\n",
      "[CV] alpha=100, l1_ratio=0.7 .........................................\n",
      "[CV] ... alpha=100, l1_ratio=0.7, score=-3081902856.231, total=   0.0s\n",
      "[CV] alpha=100, l1_ratio=0.7 .........................................\n",
      "[CV] ... alpha=100, l1_ratio=0.7, score=-3610264931.649, total=   0.0s\n",
      "[CV] alpha=100, l1_ratio=0.7 .........................................\n",
      "[CV] ... alpha=100, l1_ratio=0.7, score=-2010710795.821, total=   0.0s\n",
      "[CV] alpha=100, l1_ratio=0.7 .........................................\n",
      "[CV] ... alpha=100, l1_ratio=0.7, score=-4367069835.081, total=   0.0s\n",
      "[CV] alpha=100, l1_ratio=0.7 .........................................\n",
      "[CV] ... alpha=100, l1_ratio=0.7, score=-3550227520.339, total=   0.0s\n",
      "[CV] alpha=100, l1_ratio=0.85 ........................................\n",
      "[CV] .. alpha=100, l1_ratio=0.85, score=-2858276414.388, total=   0.0s\n",
      "[CV] alpha=100, l1_ratio=0.85 ........................................\n",
      "[CV] .. alpha=100, l1_ratio=0.85, score=-2851450959.129, total=   0.0s\n",
      "[CV] alpha=100, l1_ratio=0.85 ........................................\n",
      "[CV] .. alpha=100, l1_ratio=0.85, score=-2056045062.679, total=   0.0s\n",
      "[CV] alpha=100, l1_ratio=0.85 ........................................\n",
      "[CV] .. alpha=100, l1_ratio=0.85, score=-4783984894.221, total=   0.0s\n",
      "[CV] alpha=100, l1_ratio=0.85 ........................................\n",
      "[CV] .. alpha=100, l1_ratio=0.85, score=-2066155360.402, total=   0.0s\n",
      "[CV] alpha=100, l1_ratio=0.85 ........................................\n",
      "[CV] .. alpha=100, l1_ratio=0.85, score=-2140868263.577, total=   0.0s\n",
      "[CV] alpha=100, l1_ratio=0.85 ........................................\n",
      "[CV] .. alpha=100, l1_ratio=0.85, score=-2614666874.357, total=   0.0s\n",
      "[CV] alpha=100, l1_ratio=0.85 ........................................\n",
      "[CV] .. alpha=100, l1_ratio=0.85, score=-1325919956.600, total=   0.0s\n",
      "[CV] alpha=100, l1_ratio=0.85 ........................................\n",
      "[CV] .. alpha=100, l1_ratio=0.85, score=-3178784091.243, total=   0.0s\n",
      "[CV] alpha=100, l1_ratio=0.85 ........................................\n",
      "[CV] .. alpha=100, l1_ratio=0.85, score=-2507954783.427, total=   0.0s\n",
      "[CV] alpha=100, l1_ratio=0.9 .........................................\n",
      "[CV] ... alpha=100, l1_ratio=0.9, score=-2347461339.836, total=   0.0s\n",
      "[CV] alpha=100, l1_ratio=0.9 .........................................\n",
      "[CV] ... alpha=100, l1_ratio=0.9, score=-2308569761.749, total=   0.0s\n",
      "[CV] alpha=100, l1_ratio=0.9 .........................................\n",
      "[CV] ... alpha=100, l1_ratio=0.9, score=-1621386946.218, total=   0.0s\n",
      "[CV] alpha=100, l1_ratio=0.9 .........................................\n",
      "[CV] ... alpha=100, l1_ratio=0.9, score=-4007587185.322, total=   0.0s\n",
      "[CV] alpha=100, l1_ratio=0.9 .........................................\n",
      "[CV] ... alpha=100, l1_ratio=0.9, score=-1604135813.673, total=   0.0s\n",
      "[CV] alpha=100, l1_ratio=0.9 .........................................\n",
      "[CV] ... alpha=100, l1_ratio=0.9, score=-1678161941.311, total=   0.0s\n",
      "[CV] alpha=100, l1_ratio=0.9 .........................................\n",
      "[CV] ... alpha=100, l1_ratio=0.9, score=-2107863518.315, total=   0.0s\n",
      "[CV] alpha=100, l1_ratio=0.9 .........................................\n",
      "[CV] ... alpha=100, l1_ratio=0.9, score=-1015198341.091, total=   0.0s\n",
      "[CV] alpha=100, l1_ratio=0.9 .........................................\n",
      "[CV] ... alpha=100, l1_ratio=0.9, score=-2573909496.141, total=   0.0s\n",
      "[CV] alpha=100, l1_ratio=0.9 .........................................\n",
      "[CV] ... alpha=100, l1_ratio=0.9, score=-1985550065.551, total=   0.0s\n",
      "[CV] alpha=100, l1_ratio=0.95 ........................................\n",
      "[CV] .. alpha=100, l1_ratio=0.95, score=-1689828133.198, total=   0.0s\n",
      "[CV] alpha=100, l1_ratio=0.95 ........................................\n",
      "[CV] .. alpha=100, l1_ratio=0.95, score=-1609874427.356, total=   0.0s\n",
      "[CV] alpha=100, l1_ratio=0.95 ........................................\n",
      "[CV] .. alpha=100, l1_ratio=0.95, score=-1084516536.660, total=   0.0s\n",
      "[CV] alpha=100, l1_ratio=0.95 ........................................\n",
      "[CV] .. alpha=100, l1_ratio=0.95, score=-2920669551.075, total=   0.0s\n",
      "[CV] alpha=100, l1_ratio=0.95 ........................................\n",
      "[CV] .. alpha=100, l1_ratio=0.95, score=-1020489088.170, total=   0.0s\n",
      "[CV] alpha=100, l1_ratio=0.95 ........................................\n",
      "[CV] .. alpha=100, l1_ratio=0.95, score=-1102699678.469, total=   0.0s\n",
      "[CV] alpha=100, l1_ratio=0.95 ........................................\n",
      "[CV] .. alpha=100, l1_ratio=0.95, score=-1444706858.409, total=   0.0s\n",
      "[CV] alpha=100, l1_ratio=0.95 ........................................\n",
      "[CV] ... alpha=100, l1_ratio=0.95, score=-664927736.673, total=   0.0s\n",
      "[CV] alpha=100, l1_ratio=0.95 ........................................\n",
      "[CV] .. alpha=100, l1_ratio=0.95, score=-1786471121.291, total=   0.0s\n",
      "[CV] alpha=100, l1_ratio=0.95 ........................................\n",
      "[CV] .. alpha=100, l1_ratio=0.95, score=-1320801278.687, total=   0.0s\n",
      "[CV] alpha=100, l1_ratio=1 ...........................................\n",
      "[CV] ...... alpha=100, l1_ratio=1, score=-573751683.841, total=   0.2s\n",
      "[CV] alpha=100, l1_ratio=1 ...........................................\n",
      "[CV] ...... alpha=100, l1_ratio=1, score=-675332567.729, total=   0.2s\n",
      "[CV] alpha=100, l1_ratio=1 ...........................................\n",
      "[CV] ...... alpha=100, l1_ratio=1, score=-420200871.809, total=   0.3s\n",
      "[CV] alpha=100, l1_ratio=1 ...........................................\n",
      "[CV] ...... alpha=100, l1_ratio=1, score=-724181817.168, total=   0.3s\n",
      "[CV] alpha=100, l1_ratio=1 ...........................................\n",
      "[CV] ...... alpha=100, l1_ratio=1, score=-353447333.752, total=   0.3s\n",
      "[CV] alpha=100, l1_ratio=1 ...........................................\n",
      "[CV] ...... alpha=100, l1_ratio=1, score=-389142378.441, total=   0.2s\n",
      "[CV] alpha=100, l1_ratio=1 ...........................................\n",
      "[CV] ...... alpha=100, l1_ratio=1, score=-431844773.194, total=   0.3s\n",
      "[CV] alpha=100, l1_ratio=1 ...........................................\n",
      "[CV] ...... alpha=100, l1_ratio=1, score=-365217894.573, total=   0.3s\n",
      "[CV] alpha=100, l1_ratio=1 ...........................................\n",
      "[CV] ...... alpha=100, l1_ratio=1, score=-618479918.028, total=   0.3s\n",
      "[CV] alpha=100, l1_ratio=1 ...........................................\n",
      "[CV] ...... alpha=100, l1_ratio=1, score=-433049219.214, total=   0.3s\n"
     ]
    },
    {
     "name": "stderr",
     "output_type": "stream",
     "text": [
      "[Parallel(n_jobs=1)]: Done 630 out of 630 | elapsed:  1.3min finished\n"
     ]
    },
    {
     "data": {
      "text/plain": [
       "GridSearchCV(cv=10, estimator=ElasticNet(),\n",
       "             param_grid={'alpha': [0.1, 1, 5, 10, 15, 25, 50, 70, 100],\n",
       "                         'l1_ratio': [0.1, 0.5, 0.7, 0.85, 0.9, 0.95, 1]},\n",
       "             scoring='neg_mean_squared_error', verbose=5)"
      ]
     },
     "execution_count": 35,
     "metadata": {},
     "output_type": "execute_result"
    }
   ],
   "source": [
    "grid_model.fit(X_train,y_train)"
   ]
  },
  {
   "cell_type": "code",
   "execution_count": 36,
   "id": "56a54745",
   "metadata": {},
   "outputs": [
    {
     "data": {
      "text/plain": [
       "ElasticNet(alpha=100, l1_ratio=1)"
      ]
     },
     "execution_count": 36,
     "metadata": {},
     "output_type": "execute_result"
    }
   ],
   "source": [
    "grid_model.best_estimator_"
   ]
  },
  {
   "cell_type": "code",
   "execution_count": 37,
   "id": "a4c602cb",
   "metadata": {},
   "outputs": [],
   "source": [
    "#Evaluate the model's performance on the unseen 10% scaled test set."
   ]
  },
  {
   "cell_type": "code",
   "execution_count": 40,
   "id": "a8a79def",
   "metadata": {},
   "outputs": [],
   "source": [
    "from sklearn.metrics import mean_absolute_error,mean_squared_error"
   ]
  },
  {
   "cell_type": "code",
   "execution_count": 41,
   "id": "c81c454e",
   "metadata": {},
   "outputs": [],
   "source": [
    "pred=grid_model.predict(X_test)"
   ]
  },
  {
   "cell_type": "code",
   "execution_count": 42,
   "id": "d2052216",
   "metadata": {},
   "outputs": [],
   "source": [
    "MAE=mean_absolute_error(y_test,pred)"
   ]
  },
  {
   "cell_type": "code",
   "execution_count": 43,
   "id": "455f9052",
   "metadata": {},
   "outputs": [],
   "source": [
    "RMSE=np.sqrt(mean_squared_error(y_test,pred))"
   ]
  },
  {
   "cell_type": "code",
   "execution_count": 44,
   "id": "5faac84a",
   "metadata": {},
   "outputs": [
    {
     "data": {
      "text/plain": [
       "14195.354900562168"
      ]
     },
     "execution_count": 44,
     "metadata": {},
     "output_type": "execute_result"
    }
   ],
   "source": [
    "MAE"
   ]
  },
  {
   "cell_type": "code",
   "execution_count": 46,
   "id": "a67a2fb3",
   "metadata": {},
   "outputs": [
    {
     "data": {
      "text/plain": [
       "20558.508566893164"
      ]
     },
     "execution_count": 46,
     "metadata": {},
     "output_type": "execute_result"
    }
   ],
   "source": [
    "RMSE"
   ]
  },
  {
   "cell_type": "code",
   "execution_count": 47,
   "id": "6ebb1ac4",
   "metadata": {},
   "outputs": [
    {
     "data": {
      "text/plain": [
       "180815.53743589742"
      ]
     },
     "execution_count": 47,
     "metadata": {},
     "output_type": "execute_result"
    }
   ],
   "source": [
    "np.mean(df['SalePrice'])"
   ]
  },
  {
   "cell_type": "code",
   "execution_count": null,
   "id": "c8f32f40",
   "metadata": {},
   "outputs": [],
   "source": []
  }
 ],
 "metadata": {
  "kernelspec": {
   "display_name": "Python 3 (ipykernel)",
   "language": "python",
   "name": "python3"
  },
  "language_info": {
   "codemirror_mode": {
    "name": "ipython",
    "version": 3
   },
   "file_extension": ".py",
   "mimetype": "text/x-python",
   "name": "python",
   "nbconvert_exporter": "python",
   "pygments_lexer": "ipython3",
   "version": "3.7.13"
  }
 },
 "nbformat": 4,
 "nbformat_minor": 5
}
